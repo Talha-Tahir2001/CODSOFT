{
 "cells": [
  {
   "cell_type": "code",
   "execution_count": 1,
   "id": "ca6cd9d1-9b91-4577-8f5a-7092cd98fbdf",
   "metadata": {
    "tags": []
   },
   "outputs": [],
   "source": [
    "#!pip install tensorflow sklearn pandas numpy"
   ]
  },
  {
   "cell_type": "markdown",
   "id": "d01c72bf-9bc9-4bc8-acea-400c67c7b7ed",
   "metadata": {},
   "source": [
    "# Importing Libraries"
   ]
  },
  {
   "cell_type": "code",
   "execution_count": 2,
   "id": "bd1186cb-8ea5-46d9-aa2c-1a36eb1587dc",
   "metadata": {
    "tags": []
   },
   "outputs": [],
   "source": [
    "import pandas as pd\n",
    "import numpy as np\n",
    "import matplotlib.pyplot as plt\n",
    "import seaborn as sns\n",
    "from sklearn.model_selection import train_test_split\n",
    "from sklearn.preprocessing import LabelEncoder\n",
    "from keras.models import Model\n",
    "from keras.layers import LSTM, Activation, Dense, Dropout, Input, Embedding\n",
    "from keras.optimizers import RMSprop\n",
    "from keras.preprocessing.text import Tokenizer\n",
    "from keras.preprocessing import sequence\n",
    "from keras.utils import to_categorical\n",
    "from keras.callbacks import EarlyStopping\n",
    "%matplotlib inline"
   ]
  },
  {
   "cell_type": "markdown",
   "id": "70403953-1cbb-4061-80b6-658c93686555",
   "metadata": {},
   "source": [
    "# Loading and Visualizing the Dataset"
   ]
  },
  {
   "cell_type": "code",
   "execution_count": 3,
   "id": "3e364af4-298e-45ab-b64b-3699dbcfe6c3",
   "metadata": {
    "tags": []
   },
   "outputs": [
    {
     "data": {
      "text/html": [
       "<div>\n",
       "<style scoped>\n",
       "    .dataframe tbody tr th:only-of-type {\n",
       "        vertical-align: middle;\n",
       "    }\n",
       "\n",
       "    .dataframe tbody tr th {\n",
       "        vertical-align: top;\n",
       "    }\n",
       "\n",
       "    .dataframe thead th {\n",
       "        text-align: right;\n",
       "    }\n",
       "</style>\n",
       "<table border=\"1\" class=\"dataframe\">\n",
       "  <thead>\n",
       "    <tr style=\"text-align: right;\">\n",
       "      <th></th>\n",
       "      <th>v1</th>\n",
       "      <th>v2</th>\n",
       "      <th>Unnamed: 2</th>\n",
       "      <th>Unnamed: 3</th>\n",
       "      <th>Unnamed: 4</th>\n",
       "    </tr>\n",
       "  </thead>\n",
       "  <tbody>\n",
       "    <tr>\n",
       "      <th>0</th>\n",
       "      <td>ham</td>\n",
       "      <td>Go until jurong point, crazy.. Available only ...</td>\n",
       "      <td>NaN</td>\n",
       "      <td>NaN</td>\n",
       "      <td>NaN</td>\n",
       "    </tr>\n",
       "    <tr>\n",
       "      <th>1</th>\n",
       "      <td>ham</td>\n",
       "      <td>Ok lar... Joking wif u oni...</td>\n",
       "      <td>NaN</td>\n",
       "      <td>NaN</td>\n",
       "      <td>NaN</td>\n",
       "    </tr>\n",
       "    <tr>\n",
       "      <th>2</th>\n",
       "      <td>spam</td>\n",
       "      <td>Free entry in 2 a wkly comp to win FA Cup fina...</td>\n",
       "      <td>NaN</td>\n",
       "      <td>NaN</td>\n",
       "      <td>NaN</td>\n",
       "    </tr>\n",
       "    <tr>\n",
       "      <th>3</th>\n",
       "      <td>ham</td>\n",
       "      <td>U dun say so early hor... U c already then say...</td>\n",
       "      <td>NaN</td>\n",
       "      <td>NaN</td>\n",
       "      <td>NaN</td>\n",
       "    </tr>\n",
       "    <tr>\n",
       "      <th>4</th>\n",
       "      <td>ham</td>\n",
       "      <td>Nah I don't think he goes to usf, he lives aro...</td>\n",
       "      <td>NaN</td>\n",
       "      <td>NaN</td>\n",
       "      <td>NaN</td>\n",
       "    </tr>\n",
       "  </tbody>\n",
       "</table>\n",
       "</div>"
      ],
      "text/plain": [
       "     v1                                                 v2 Unnamed: 2  \\\n",
       "0   ham  Go until jurong point, crazy.. Available only ...        NaN   \n",
       "1   ham                      Ok lar... Joking wif u oni...        NaN   \n",
       "2  spam  Free entry in 2 a wkly comp to win FA Cup fina...        NaN   \n",
       "3   ham  U dun say so early hor... U c already then say...        NaN   \n",
       "4   ham  Nah I don't think he goes to usf, he lives aro...        NaN   \n",
       "\n",
       "  Unnamed: 3 Unnamed: 4  \n",
       "0        NaN        NaN  \n",
       "1        NaN        NaN  \n",
       "2        NaN        NaN  \n",
       "3        NaN        NaN  \n",
       "4        NaN        NaN  "
      ]
     },
     "execution_count": 3,
     "metadata": {},
     "output_type": "execute_result"
    }
   ],
   "source": [
    "df = pd.read_csv('Spam Collection Dataset/spam.csv',delimiter=',',encoding='ISO-8859-1')\n",
    "df.head()"
   ]
  },
  {
   "cell_type": "code",
   "execution_count": 5,
   "id": "e78a6598-dbcf-4e2e-b6f7-f6869befa0b8",
   "metadata": {
    "tags": []
   },
   "outputs": [
    {
     "data": {
      "text/plain": [
       "(5572, 5)"
      ]
     },
     "execution_count": 5,
     "metadata": {},
     "output_type": "execute_result"
    }
   ],
   "source": [
    "df.shape"
   ]
  },
  {
   "cell_type": "code",
   "execution_count": 6,
   "id": "16264e82-d96e-431b-9e09-210bbced79ec",
   "metadata": {
    "tags": []
   },
   "outputs": [
    {
     "name": "stdout",
     "output_type": "stream",
     "text": [
      "<class 'pandas.core.frame.DataFrame'>\n",
      "RangeIndex: 5572 entries, 0 to 5571\n",
      "Data columns (total 5 columns):\n",
      " #   Column      Non-Null Count  Dtype \n",
      "---  ------      --------------  ----- \n",
      " 0   v1          5572 non-null   object\n",
      " 1   v2          5572 non-null   object\n",
      " 2   Unnamed: 2  50 non-null     object\n",
      " 3   Unnamed: 3  12 non-null     object\n",
      " 4   Unnamed: 4  6 non-null      object\n",
      "dtypes: object(5)\n",
      "memory usage: 217.8+ KB\n"
     ]
    }
   ],
   "source": [
    "df.info()"
   ]
  },
  {
   "cell_type": "code",
   "execution_count": 7,
   "id": "74064b5e-19d4-4e03-81c0-9a25c605fd95",
   "metadata": {
    "tags": []
   },
   "outputs": [
    {
     "data": {
      "text/html": [
       "<div>\n",
       "<style scoped>\n",
       "    .dataframe tbody tr th:only-of-type {\n",
       "        vertical-align: middle;\n",
       "    }\n",
       "\n",
       "    .dataframe tbody tr th {\n",
       "        vertical-align: top;\n",
       "    }\n",
       "\n",
       "    .dataframe thead th {\n",
       "        text-align: right;\n",
       "    }\n",
       "</style>\n",
       "<table border=\"1\" class=\"dataframe\">\n",
       "  <thead>\n",
       "    <tr style=\"text-align: right;\">\n",
       "      <th></th>\n",
       "      <th>v1</th>\n",
       "      <th>v2</th>\n",
       "      <th>Unnamed: 2</th>\n",
       "      <th>Unnamed: 3</th>\n",
       "      <th>Unnamed: 4</th>\n",
       "    </tr>\n",
       "  </thead>\n",
       "  <tbody>\n",
       "    <tr>\n",
       "      <th>5567</th>\n",
       "      <td>spam</td>\n",
       "      <td>This is the 2nd time we have tried 2 contact u...</td>\n",
       "      <td>NaN</td>\n",
       "      <td>NaN</td>\n",
       "      <td>NaN</td>\n",
       "    </tr>\n",
       "    <tr>\n",
       "      <th>5568</th>\n",
       "      <td>ham</td>\n",
       "      <td>Will Ì_ b going to esplanade fr home?</td>\n",
       "      <td>NaN</td>\n",
       "      <td>NaN</td>\n",
       "      <td>NaN</td>\n",
       "    </tr>\n",
       "    <tr>\n",
       "      <th>5569</th>\n",
       "      <td>ham</td>\n",
       "      <td>Pity, * was in mood for that. So...any other s...</td>\n",
       "      <td>NaN</td>\n",
       "      <td>NaN</td>\n",
       "      <td>NaN</td>\n",
       "    </tr>\n",
       "    <tr>\n",
       "      <th>5570</th>\n",
       "      <td>ham</td>\n",
       "      <td>The guy did some bitching but I acted like i'd...</td>\n",
       "      <td>NaN</td>\n",
       "      <td>NaN</td>\n",
       "      <td>NaN</td>\n",
       "    </tr>\n",
       "    <tr>\n",
       "      <th>5571</th>\n",
       "      <td>ham</td>\n",
       "      <td>Rofl. Its true to its name</td>\n",
       "      <td>NaN</td>\n",
       "      <td>NaN</td>\n",
       "      <td>NaN</td>\n",
       "    </tr>\n",
       "  </tbody>\n",
       "</table>\n",
       "</div>"
      ],
      "text/plain": [
       "        v1                                                 v2 Unnamed: 2  \\\n",
       "5567  spam  This is the 2nd time we have tried 2 contact u...        NaN   \n",
       "5568   ham              Will Ì_ b going to esplanade fr home?        NaN   \n",
       "5569   ham  Pity, * was in mood for that. So...any other s...        NaN   \n",
       "5570   ham  The guy did some bitching but I acted like i'd...        NaN   \n",
       "5571   ham                         Rofl. Its true to its name        NaN   \n",
       "\n",
       "     Unnamed: 3 Unnamed: 4  \n",
       "5567        NaN        NaN  \n",
       "5568        NaN        NaN  \n",
       "5569        NaN        NaN  \n",
       "5570        NaN        NaN  \n",
       "5571        NaN        NaN  "
      ]
     },
     "execution_count": 7,
     "metadata": {},
     "output_type": "execute_result"
    }
   ],
   "source": [
    "df.tail()"
   ]
  },
  {
   "cell_type": "code",
   "execution_count": 8,
   "id": "0bf61668-43f7-42d5-8fe4-fefb478e440a",
   "metadata": {
    "tags": []
   },
   "outputs": [
    {
     "data": {
      "text/plain": [
       "v1\n",
       "ham     4825\n",
       "spam     747\n",
       "Name: count, dtype: int64"
      ]
     },
     "execution_count": 8,
     "metadata": {},
     "output_type": "execute_result"
    }
   ],
   "source": [
    "df['v1'].value_counts()"
   ]
  },
  {
   "cell_type": "code",
   "execution_count": 10,
   "id": "9fc155d2-9461-4825-b6c8-5c265282f874",
   "metadata": {
    "tags": []
   },
   "outputs": [
    {
     "name": "stdout",
     "output_type": "stream",
     "text": [
      "<class 'pandas.core.frame.DataFrame'>\n",
      "RangeIndex: 5572 entries, 0 to 5571\n",
      "Data columns (total 2 columns):\n",
      " #   Column  Non-Null Count  Dtype \n",
      "---  ------  --------------  ----- \n",
      " 0   v1      5572 non-null   object\n",
      " 1   v2      5572 non-null   object\n",
      "dtypes: object(2)\n",
      "memory usage: 87.2+ KB\n"
     ]
    }
   ],
   "source": [
    "df.drop(['Unnamed: 2', 'Unnamed: 3', 'Unnamed: 4'],axis=1,inplace=True)\n",
    "df.info()"
   ]
  },
  {
   "cell_type": "code",
   "execution_count": 13,
   "id": "3cc9072a-8203-4416-8896-63417fe8b4f9",
   "metadata": {
    "tags": []
   },
   "outputs": [
    {
     "data": {
      "text/html": [
       "<div>\n",
       "<style scoped>\n",
       "    .dataframe tbody tr th:only-of-type {\n",
       "        vertical-align: middle;\n",
       "    }\n",
       "\n",
       "    .dataframe tbody tr th {\n",
       "        vertical-align: top;\n",
       "    }\n",
       "\n",
       "    .dataframe thead th {\n",
       "        text-align: right;\n",
       "    }\n",
       "</style>\n",
       "<table border=\"1\" class=\"dataframe\">\n",
       "  <thead>\n",
       "    <tr style=\"text-align: right;\">\n",
       "      <th></th>\n",
       "      <th>v1</th>\n",
       "      <th>v2</th>\n",
       "    </tr>\n",
       "  </thead>\n",
       "  <tbody>\n",
       "    <tr>\n",
       "      <th>0</th>\n",
       "      <td>ham</td>\n",
       "      <td>Go until jurong point, crazy.. Available only ...</td>\n",
       "    </tr>\n",
       "    <tr>\n",
       "      <th>1</th>\n",
       "      <td>ham</td>\n",
       "      <td>Ok lar... Joking wif u oni...</td>\n",
       "    </tr>\n",
       "    <tr>\n",
       "      <th>2</th>\n",
       "      <td>spam</td>\n",
       "      <td>Free entry in 2 a wkly comp to win FA Cup fina...</td>\n",
       "    </tr>\n",
       "    <tr>\n",
       "      <th>3</th>\n",
       "      <td>ham</td>\n",
       "      <td>U dun say so early hor... U c already then say...</td>\n",
       "    </tr>\n",
       "    <tr>\n",
       "      <th>4</th>\n",
       "      <td>ham</td>\n",
       "      <td>Nah I don't think he goes to usf, he lives aro...</td>\n",
       "    </tr>\n",
       "  </tbody>\n",
       "</table>\n",
       "</div>"
      ],
      "text/plain": [
       "     v1                                                 v2\n",
       "0   ham  Go until jurong point, crazy.. Available only ...\n",
       "1   ham                      Ok lar... Joking wif u oni...\n",
       "2  spam  Free entry in 2 a wkly comp to win FA Cup fina...\n",
       "3   ham  U dun say so early hor... U c already then say...\n",
       "4   ham  Nah I don't think he goes to usf, he lives aro..."
      ]
     },
     "execution_count": 13,
     "metadata": {},
     "output_type": "execute_result"
    }
   ],
   "source": [
    "df.head()"
   ]
  },
  {
   "cell_type": "code",
   "execution_count": 15,
   "id": "b30cbc5c-de91-4818-9422-6b7bbf883a3e",
   "metadata": {
    "tags": []
   },
   "outputs": [
    {
     "name": "stderr",
     "output_type": "stream",
     "text": [
      "C:\\Dev\\Spam SMS Detection\\spamsmsdetection\\Lib\\site-packages\\seaborn\\_oldcore.py:1498: FutureWarning: is_categorical_dtype is deprecated and will be removed in a future version. Use isinstance(dtype, CategoricalDtype) instead\n",
      "  if pd.api.types.is_categorical_dtype(vector):\n",
      "C:\\Dev\\Spam SMS Detection\\spamsmsdetection\\Lib\\site-packages\\seaborn\\_oldcore.py:1498: FutureWarning: is_categorical_dtype is deprecated and will be removed in a future version. Use isinstance(dtype, CategoricalDtype) instead\n",
      "  if pd.api.types.is_categorical_dtype(vector):\n",
      "C:\\Dev\\Spam SMS Detection\\spamsmsdetection\\Lib\\site-packages\\seaborn\\_oldcore.py:1498: FutureWarning: is_categorical_dtype is deprecated and will be removed in a future version. Use isinstance(dtype, CategoricalDtype) instead\n",
      "  if pd.api.types.is_categorical_dtype(vector):\n",
      "C:\\Dev\\Spam SMS Detection\\spamsmsdetection\\Lib\\site-packages\\seaborn\\_oldcore.py:1498: FutureWarning: is_categorical_dtype is deprecated and will be removed in a future version. Use isinstance(dtype, CategoricalDtype) instead\n",
      "  if pd.api.types.is_categorical_dtype(vector):\n"
     ]
    },
    {
     "data": {
      "text/plain": [
       "Text(0.5, 1.0, 'Number of ham and spam messages')"
      ]
     },
     "execution_count": 15,
     "metadata": {},
     "output_type": "execute_result"
    },
    {
     "data": {
      "image/png": "[encoded data removed]",
      "text/plain": [
       "<Figure size 640x480 with 1 Axes>"
      ]
     },
     "metadata": {},
     "output_type": "display_data"
    }
   ],
   "source": [
    "sns.countplot(data=df, x='v1', hue='v1')\n",
    "plt.xlabel('Label')\n",
    "plt.title('Number of ham and spam messages')"
   ]
  },
  {
   "cell_type": "code",
   "execution_count": 18,
   "id": "8ccc4ec1-c048-4ba3-aae5-1ecd584a43be",
   "metadata": {
    "tags": []
   },
   "outputs": [],
   "source": [
    "encoder = LabelEncoder()\n",
    "df['v1'] = encoder.fit_transform(df['v1'])"
   ]
  },
  {
   "cell_type": "code",
   "execution_count": 20,
   "id": "83e056c6-3e98-4f27-9944-c838703a7792",
   "metadata": {
    "tags": []
   },
   "outputs": [
    {
     "data": {
      "text/html": [
       "<div>\n",
       "<style scoped>\n",
       "    .dataframe tbody tr th:only-of-type {\n",
       "        vertical-align: middle;\n",
       "    }\n",
       "\n",
       "    .dataframe tbody tr th {\n",
       "        vertical-align: top;\n",
       "    }\n",
       "\n",
       "    .dataframe thead th {\n",
       "        text-align: right;\n",
       "    }\n",
       "</style>\n",
       "<table border=\"1\" class=\"dataframe\">\n",
       "  <thead>\n",
       "    <tr style=\"text-align: right;\">\n",
       "      <th></th>\n",
       "      <th>v1</th>\n",
       "      <th>v2</th>\n",
       "    </tr>\n",
       "  </thead>\n",
       "  <tbody>\n",
       "    <tr>\n",
       "      <th>0</th>\n",
       "      <td>0</td>\n",
       "      <td>Go until jurong point, crazy.. Available only ...</td>\n",
       "    </tr>\n",
       "    <tr>\n",
       "      <th>1</th>\n",
       "      <td>0</td>\n",
       "      <td>Ok lar... Joking wif u oni...</td>\n",
       "    </tr>\n",
       "    <tr>\n",
       "      <th>2</th>\n",
       "      <td>1</td>\n",
       "      <td>Free entry in 2 a wkly comp to win FA Cup fina...</td>\n",
       "    </tr>\n",
       "    <tr>\n",
       "      <th>3</th>\n",
       "      <td>0</td>\n",
       "      <td>U dun say so early hor... U c already then say...</td>\n",
       "    </tr>\n",
       "    <tr>\n",
       "      <th>4</th>\n",
       "      <td>0</td>\n",
       "      <td>Nah I don't think he goes to usf, he lives aro...</td>\n",
       "    </tr>\n",
       "  </tbody>\n",
       "</table>\n",
       "</div>"
      ],
      "text/plain": [
       "   v1                                                 v2\n",
       "0   0  Go until jurong point, crazy.. Available only ...\n",
       "1   0                      Ok lar... Joking wif u oni...\n",
       "2   1  Free entry in 2 a wkly comp to win FA Cup fina...\n",
       "3   0  U dun say so early hor... U c already then say...\n",
       "4   0  Nah I don't think he goes to usf, he lives aro..."
      ]
     },
     "execution_count": 20,
     "metadata": {},
     "output_type": "execute_result"
    }
   ],
   "source": [
    "df.head()"
   ]
  },
  {
   "cell_type": "code",
   "execution_count": 21,
   "id": "5e9b8dd3-41b3-4a73-a528-06e76d9c9a01",
   "metadata": {
    "tags": []
   },
   "outputs": [
    {
     "data": {
      "text/plain": [
       "403"
      ]
     },
     "execution_count": 21,
     "metadata": {},
     "output_type": "execute_result"
    }
   ],
   "source": [
    "df.duplicated().sum()"
   ]
  },
  {
   "cell_type": "code",
   "execution_count": 22,
   "id": "3c9afb3b-0668-4eba-9f67-b8a0423b8eb4",
   "metadata": {
    "tags": []
   },
   "outputs": [],
   "source": [
    "df = df.drop_duplicates(keep = 'first')"
   ]
  },
  {
   "cell_type": "code",
   "execution_count": 23,
   "id": "b0251f69-1a89-4e85-9e2a-c4e0aee9690a",
   "metadata": {
    "tags": []
   },
   "outputs": [
    {
     "data": {
      "text/plain": [
       "0"
      ]
     },
     "execution_count": 23,
     "metadata": {},
     "output_type": "execute_result"
    }
   ],
   "source": [
    "df.duplicated().sum()"
   ]
  },
  {
   "cell_type": "code",
   "execution_count": 28,
   "id": "ce276708-9647-41a4-8c9b-3e8c0e6d2b49",
   "metadata": {
    "tags": []
   },
   "outputs": [
    {
     "name": "stderr",
     "output_type": "stream",
     "text": [
      "[nltk_data] Downloading package stopwords to\n",
      "[nltk_data]     C:\\Users\\talha\\AppData\\Roaming\\nltk_data...\n",
      "[nltk_data]   Package stopwords is already up-to-date!\n"
     ]
    }
   ],
   "source": [
    "import nltk\n",
    "from nltk.corpus import stopwords\n",
    "nltk.download('stopwords')\n",
    "import string\n",
    "from nltk.stem.porter import PorterStemmer"
   ]
  },
  {
   "cell_type": "code",
   "execution_count": 29,
   "id": "53af6aad-e399-489c-8475-5cc06c851395",
   "metadata": {
    "tags": []
   },
   "outputs": [
    {
     "name": "stderr",
     "output_type": "stream",
     "text": [
      "[nltk_data] Downloading package punkt to\n",
      "[nltk_data]     C:\\Users\\talha\\AppData\\Roaming\\nltk_data...\n",
      "[nltk_data]   Unzipping tokenizers\\punkt.zip.\n"
     ]
    },
    {
     "data": {
      "text/plain": [
       "True"
      ]
     },
     "execution_count": 29,
     "metadata": {},
     "output_type": "execute_result"
    }
   ],
   "source": [
    "nltk.download('punkt')"
   ]
  },
  {
   "cell_type": "code",
   "execution_count": 32,
   "id": "7beffed3-306b-4f77-9289-c6f7f3f9f694",
   "metadata": {
    "tags": []
   },
   "outputs": [],
   "source": [
    "# df['words'] = df['v2'].apply(lambda x:len(nltk.word_tokenize(x)))\n",
    "df.loc[:, 'words'] = df['v2'].apply(lambda x: len(nltk.word_tokenize(x)))"
   ]
  },
  {
   "cell_type": "code",
   "execution_count": 33,
   "id": "3498d2f1-e601-4ad1-967a-3bf569cece9e",
   "metadata": {
    "tags": []
   },
   "outputs": [
    {
     "data": {
      "text/html": [
       "<div>\n",
       "<style scoped>\n",
       "    .dataframe tbody tr th:only-of-type {\n",
       "        vertical-align: middle;\n",
       "    }\n",
       "\n",
       "    .dataframe tbody tr th {\n",
       "        vertical-align: top;\n",
       "    }\n",
       "\n",
       "    .dataframe thead th {\n",
       "        text-align: right;\n",
       "    }\n",
       "</style>\n",
       "<table border=\"1\" class=\"dataframe\">\n",
       "  <thead>\n",
       "    <tr style=\"text-align: right;\">\n",
       "      <th></th>\n",
       "      <th>v1</th>\n",
       "      <th>v2</th>\n",
       "      <th>words</th>\n",
       "    </tr>\n",
       "  </thead>\n",
       "  <tbody>\n",
       "    <tr>\n",
       "      <th>0</th>\n",
       "      <td>0</td>\n",
       "      <td>Go until jurong point, crazy.. Available only ...</td>\n",
       "      <td>24</td>\n",
       "    </tr>\n",
       "    <tr>\n",
       "      <th>1</th>\n",
       "      <td>0</td>\n",
       "      <td>Ok lar... Joking wif u oni...</td>\n",
       "      <td>8</td>\n",
       "    </tr>\n",
       "    <tr>\n",
       "      <th>2</th>\n",
       "      <td>1</td>\n",
       "      <td>Free entry in 2 a wkly comp to win FA Cup fina...</td>\n",
       "      <td>37</td>\n",
       "    </tr>\n",
       "    <tr>\n",
       "      <th>3</th>\n",
       "      <td>0</td>\n",
       "      <td>U dun say so early hor... U c already then say...</td>\n",
       "      <td>13</td>\n",
       "    </tr>\n",
       "    <tr>\n",
       "      <th>4</th>\n",
       "      <td>0</td>\n",
       "      <td>Nah I don't think he goes to usf, he lives aro...</td>\n",
       "      <td>15</td>\n",
       "    </tr>\n",
       "  </tbody>\n",
       "</table>\n",
       "</div>"
      ],
      "text/plain": [
       "   v1                                                 v2  words\n",
       "0   0  Go until jurong point, crazy.. Available only ...     24\n",
       "1   0                      Ok lar... Joking wif u oni...      8\n",
       "2   1  Free entry in 2 a wkly comp to win FA Cup fina...     37\n",
       "3   0  U dun say so early hor... U c already then say...     13\n",
       "4   0  Nah I don't think he goes to usf, he lives aro...     15"
      ]
     },
     "execution_count": 33,
     "metadata": {},
     "output_type": "execute_result"
    }
   ],
   "source": [
    "df.head()"
   ]
  },
  {
   "cell_type": "code",
   "execution_count": 34,
   "id": "2ecca85e-5390-4d33-af05-fb74e4462b3f",
   "metadata": {
    "tags": []
   },
   "outputs": [
    {
     "data": {
      "text/html": [
       "<div>\n",
       "<style scoped>\n",
       "    .dataframe tbody tr th:only-of-type {\n",
       "        vertical-align: middle;\n",
       "    }\n",
       "\n",
       "    .dataframe tbody tr th {\n",
       "        vertical-align: top;\n",
       "    }\n",
       "\n",
       "    .dataframe thead th {\n",
       "        text-align: right;\n",
       "    }\n",
       "</style>\n",
       "<table border=\"1\" class=\"dataframe\">\n",
       "  <thead>\n",
       "    <tr style=\"text-align: right;\">\n",
       "      <th></th>\n",
       "      <th>words</th>\n",
       "    </tr>\n",
       "  </thead>\n",
       "  <tbody>\n",
       "    <tr>\n",
       "      <th>count</th>\n",
       "      <td>4516.000000</td>\n",
       "    </tr>\n",
       "    <tr>\n",
       "      <th>mean</th>\n",
       "      <td>17.123782</td>\n",
       "    </tr>\n",
       "    <tr>\n",
       "      <th>std</th>\n",
       "      <td>13.493970</td>\n",
       "    </tr>\n",
       "    <tr>\n",
       "      <th>min</th>\n",
       "      <td>1.000000</td>\n",
       "    </tr>\n",
       "    <tr>\n",
       "      <th>25%</th>\n",
       "      <td>8.000000</td>\n",
       "    </tr>\n",
       "    <tr>\n",
       "      <th>50%</th>\n",
       "      <td>13.000000</td>\n",
       "    </tr>\n",
       "    <tr>\n",
       "      <th>75%</th>\n",
       "      <td>22.000000</td>\n",
       "    </tr>\n",
       "    <tr>\n",
       "      <th>max</th>\n",
       "      <td>220.000000</td>\n",
       "    </tr>\n",
       "  </tbody>\n",
       "</table>\n",
       "</div>"
      ],
      "text/plain": [
       "             words\n",
       "count  4516.000000\n",
       "mean     17.123782\n",
       "std      13.493970\n",
       "min       1.000000\n",
       "25%       8.000000\n",
       "50%      13.000000\n",
       "75%      22.000000\n",
       "max     220.000000"
      ]
     },
     "execution_count": 34,
     "metadata": {},
     "output_type": "execute_result"
    }
   ],
   "source": [
    "df[df['v1']==0][['words']].describe()"
   ]
  },
  {
   "cell_type": "code",
   "execution_count": 35,
   "id": "25d7ca36-878c-4677-b3be-c3d877cd14d5",
   "metadata": {
    "tags": []
   },
   "outputs": [
    {
     "data": {
      "text/html": [
       "<div>\n",
       "<style scoped>\n",
       "    .dataframe tbody tr th:only-of-type {\n",
       "        vertical-align: middle;\n",
       "    }\n",
       "\n",
       "    .dataframe tbody tr th {\n",
       "        vertical-align: top;\n",
       "    }\n",
       "\n",
       "    .dataframe thead th {\n",
       "        text-align: right;\n",
       "    }\n",
       "</style>\n",
       "<table border=\"1\" class=\"dataframe\">\n",
       "  <thead>\n",
       "    <tr style=\"text-align: right;\">\n",
       "      <th></th>\n",
       "      <th>words</th>\n",
       "    </tr>\n",
       "  </thead>\n",
       "  <tbody>\n",
       "    <tr>\n",
       "      <th>count</th>\n",
       "      <td>653.000000</td>\n",
       "    </tr>\n",
       "    <tr>\n",
       "      <th>mean</th>\n",
       "      <td>27.667688</td>\n",
       "    </tr>\n",
       "    <tr>\n",
       "      <th>std</th>\n",
       "      <td>7.008418</td>\n",
       "    </tr>\n",
       "    <tr>\n",
       "      <th>min</th>\n",
       "      <td>2.000000</td>\n",
       "    </tr>\n",
       "    <tr>\n",
       "      <th>25%</th>\n",
       "      <td>25.000000</td>\n",
       "    </tr>\n",
       "    <tr>\n",
       "      <th>50%</th>\n",
       "      <td>29.000000</td>\n",
       "    </tr>\n",
       "    <tr>\n",
       "      <th>75%</th>\n",
       "      <td>32.000000</td>\n",
       "    </tr>\n",
       "    <tr>\n",
       "      <th>max</th>\n",
       "      <td>46.000000</td>\n",
       "    </tr>\n",
       "  </tbody>\n",
       "</table>\n",
       "</div>"
      ],
      "text/plain": [
       "            words\n",
       "count  653.000000\n",
       "mean    27.667688\n",
       "std      7.008418\n",
       "min      2.000000\n",
       "25%     25.000000\n",
       "50%     29.000000\n",
       "75%     32.000000\n",
       "max     46.000000"
      ]
     },
     "execution_count": 35,
     "metadata": {},
     "output_type": "execute_result"
    }
   ],
   "source": [
    "df[df['v1']==1][['words']].describe()"
   ]
  },
  {
   "cell_type": "code",
   "execution_count": 37,
   "id": "1221def7-ff5c-41ff-970a-573d64c00584",
   "metadata": {
    "tags": []
   },
   "outputs": [
    {
     "name": "stderr",
     "output_type": "stream",
     "text": [
      "C:\\Dev\\Spam SMS Detection\\spamsmsdetection\\Lib\\site-packages\\seaborn\\_oldcore.py:1498: FutureWarning: is_categorical_dtype is deprecated and will be removed in a future version. Use isinstance(dtype, CategoricalDtype) instead\n",
      "  if pd.api.types.is_categorical_dtype(vector):\n",
      "C:\\Dev\\Spam SMS Detection\\spamsmsdetection\\Lib\\site-packages\\seaborn\\_oldcore.py:1119: FutureWarning: use_inf_as_na option is deprecated and will be removed in a future version. Convert inf values to NaN before operating instead.\n",
      "  with pd.option_context('mode.use_inf_as_na', True):\n",
      "C:\\Dev\\Spam SMS Detection\\spamsmsdetection\\Lib\\site-packages\\seaborn\\_oldcore.py:1498: FutureWarning: is_categorical_dtype is deprecated and will be removed in a future version. Use isinstance(dtype, CategoricalDtype) instead\n",
      "  if pd.api.types.is_categorical_dtype(vector):\n",
      "C:\\Dev\\Spam SMS Detection\\spamsmsdetection\\Lib\\site-packages\\seaborn\\_oldcore.py:1119: FutureWarning: use_inf_as_na option is deprecated and will be removed in a future version. Convert inf values to NaN before operating instead.\n",
      "  with pd.option_context('mode.use_inf_as_na', True):\n"
     ]
    },
    {
     "data": {
      "text/plain": [
       "<Axes: xlabel='words', ylabel='Count'>"
      ]
     },
     "execution_count": 37,
     "metadata": {},
     "output_type": "execute_result"
    },
    {
     "data": {
      "image/png": "[encoded data removed]",
      "text/plain": [
       "<Figure size 1200x600 with 1 Axes>"
      ]
     },
     "metadata": {},
     "output_type": "display_data"
    }
   ],
   "source": [
    "plt.figure(figsize=(12,6))\n",
    "sns.histplot(df[df['v1'] == 0]['words'])\n",
    "sns.histplot(df[df['v1'] == 1]['words'],color='green')"
   ]
  },
  {
   "cell_type": "markdown",
   "id": "7ad7733f-ab6d-4298-89a6-6c058e834b63",
   "metadata": {},
   "source": [
    "# Data Preperation"
   ]
  },
  {
   "cell_type": "code",
   "execution_count": 38,
   "id": "5c9b8ac4-8bfb-4e7f-b298-de2379a47ede",
   "metadata": {
    "tags": []
   },
   "outputs": [],
   "source": [
    "ps = PorterStemmer()\n",
    "def transform_text(text):\n",
    "    text = text.lower()\n",
    "    text = nltk.word_tokenize(text)\n",
    "    y = []\n",
    "    for i in text:\n",
    "        if i.isalnum():\n",
    "            y.append(i)\n",
    "    text = y[:]\n",
    "    y.clear()\n",
    "    for i in text:\n",
    "        if i not in stopwords.words('english') and i not in string.punctuation:\n",
    "            y.append(i)\n",
    "    text = y[:]\n",
    "    y.clear()\n",
    "    for i in text:\n",
    "        y.append(ps.stem(i))\n",
    "    return \" \".join(y)"
   ]
  },
  {
   "cell_type": "code",
   "execution_count": 40,
   "id": "fb7ca85e-fb7b-4fa7-b904-4983f9e12fd7",
   "metadata": {
    "tags": []
   },
   "outputs": [],
   "source": [
    "#df['after_transformation'] = df['v2'].apply(transform_text)\n",
    "df.loc[:, 'after_transformation'] = df['v2'].apply(transform_text)"
   ]
  },
  {
   "cell_type": "code",
   "execution_count": 41,
   "id": "0e50b0b4-68be-4488-827b-57c7d6943e29",
   "metadata": {
    "tags": []
   },
   "outputs": [
    {
     "data": {
      "text/html": [
       "<div>\n",
       "<style scoped>\n",
       "    .dataframe tbody tr th:only-of-type {\n",
       "        vertical-align: middle;\n",
       "    }\n",
       "\n",
       "    .dataframe tbody tr th {\n",
       "        vertical-align: top;\n",
       "    }\n",
       "\n",
       "    .dataframe thead th {\n",
       "        text-align: right;\n",
       "    }\n",
       "</style>\n",
       "<table border=\"1\" class=\"dataframe\">\n",
       "  <thead>\n",
       "    <tr style=\"text-align: right;\">\n",
       "      <th></th>\n",
       "      <th>v1</th>\n",
       "      <th>v2</th>\n",
       "      <th>words</th>\n",
       "      <th>after_transformation</th>\n",
       "    </tr>\n",
       "  </thead>\n",
       "  <tbody>\n",
       "    <tr>\n",
       "      <th>0</th>\n",
       "      <td>0</td>\n",
       "      <td>Go until jurong point, crazy.. Available only ...</td>\n",
       "      <td>24</td>\n",
       "      <td>go jurong point crazi avail bugi n great world...</td>\n",
       "    </tr>\n",
       "    <tr>\n",
       "      <th>1</th>\n",
       "      <td>0</td>\n",
       "      <td>Ok lar... Joking wif u oni...</td>\n",
       "      <td>8</td>\n",
       "      <td>ok lar joke wif u oni</td>\n",
       "    </tr>\n",
       "    <tr>\n",
       "      <th>2</th>\n",
       "      <td>1</td>\n",
       "      <td>Free entry in 2 a wkly comp to win FA Cup fina...</td>\n",
       "      <td>37</td>\n",
       "      <td>free entri 2 wkli comp win fa cup final tkt 21...</td>\n",
       "    </tr>\n",
       "    <tr>\n",
       "      <th>3</th>\n",
       "      <td>0</td>\n",
       "      <td>U dun say so early hor... U c already then say...</td>\n",
       "      <td>13</td>\n",
       "      <td>u dun say earli hor u c alreadi say</td>\n",
       "    </tr>\n",
       "    <tr>\n",
       "      <th>4</th>\n",
       "      <td>0</td>\n",
       "      <td>Nah I don't think he goes to usf, he lives aro...</td>\n",
       "      <td>15</td>\n",
       "      <td>nah think goe usf live around though</td>\n",
       "    </tr>\n",
       "  </tbody>\n",
       "</table>\n",
       "</div>"
      ],
      "text/plain": [
       "   v1                                                 v2  words  \\\n",
       "0   0  Go until jurong point, crazy.. Available only ...     24   \n",
       "1   0                      Ok lar... Joking wif u oni...      8   \n",
       "2   1  Free entry in 2 a wkly comp to win FA Cup fina...     37   \n",
       "3   0  U dun say so early hor... U c already then say...     13   \n",
       "4   0  Nah I don't think he goes to usf, he lives aro...     15   \n",
       "\n",
       "                                after_transformation  \n",
       "0  go jurong point crazi avail bugi n great world...  \n",
       "1                              ok lar joke wif u oni  \n",
       "2  free entri 2 wkli comp win fa cup final tkt 21...  \n",
       "3                u dun say earli hor u c alreadi say  \n",
       "4               nah think goe usf live around though  "
      ]
     },
     "execution_count": 41,
     "metadata": {},
     "output_type": "execute_result"
    }
   ],
   "source": [
    "df.head()"
   ]
  },
  {
   "cell_type": "markdown",
   "id": "80684080-a086-482d-8412-5bbdb9f40161",
   "metadata": {},
   "source": [
    "# Building the Model"
   ]
  },
  {
   "cell_type": "code",
   "execution_count": 42,
   "id": "162dfd18-5501-49bd-878a-c7356d358921",
   "metadata": {
    "tags": []
   },
   "outputs": [],
   "source": [
    "from sklearn.feature_extraction.text import CountVectorizer,TfidfVectorizer\n",
    "cv = CountVectorizer()\n",
    "tfidf = TfidfVectorizer(max_features=3000)"
   ]
  },
  {
   "cell_type": "markdown",
   "id": "b25f3f76-463d-46b5-a7db-07b13a24b52c",
   "metadata": {},
   "source": [
    "## Splitting the Data"
   ]
  },
  {
   "cell_type": "code",
   "execution_count": 44,
   "id": "106e028c-d724-4cc7-acaa-00f9b13c1f45",
   "metadata": {
    "tags": []
   },
   "outputs": [],
   "source": [
    "X = tfidf.fit_transform(df['after_transformation']).toarray()"
   ]
  },
  {
   "cell_type": "code",
   "execution_count": 45,
   "id": "290eec13-8e29-4dc9-b8f7-1519b788bf9b",
   "metadata": {
    "tags": []
   },
   "outputs": [],
   "source": [
    "y = df['v1'].values"
   ]
  },
  {
   "cell_type": "markdown",
   "id": "42e993bb-3489-4478-b990-bde5f83eedf4",
   "metadata": {},
   "source": [
    "### Splitting into Train and Test Data"
   ]
  },
  {
   "cell_type": "code",
   "execution_count": 46,
   "id": "d1f56556-9f3a-44eb-b02c-96669cf0b2dc",
   "metadata": {
    "tags": []
   },
   "outputs": [],
   "source": [
    "X_train,X_test,y_train,y_test = train_test_split(X,y,test_size=0.2,random_state=2)"
   ]
  },
  {
   "cell_type": "markdown",
   "id": "b000a5c8-a663-4d4b-90c2-f09e614dc210",
   "metadata": {},
   "source": [
    "### Accuracy Report"
   ]
  },
  {
   "cell_type": "code",
   "execution_count": 52,
   "id": "932e56a3-4fef-4466-a22a-7c27db13a91b",
   "metadata": {
    "tags": []
   },
   "outputs": [],
   "source": [
    "from sklearn.metrics import accuracy_score,confusion_matrix,classification_report\n",
    "\n",
    "def acc_report(actual,predicted):\n",
    "    acc_score=accuracy_score(actual,predicted)\n",
    "    cm_matrix=confusion_matrix(actual,predicted)\n",
    "    class_rep=classification_report(actual,predicted)\n",
    "    print('The Accuracy of the Model is ',acc_score)\n",
    "    print(cm_matrix)\n",
    "    print(class_rep)"
   ]
  },
  {
   "cell_type": "markdown",
   "id": "01ae1cca-dddc-48a5-9b8b-7a4b22757481",
   "metadata": {},
   "source": [
    "## Applying ML Classification Models"
   ]
  },
  {
   "cell_type": "code",
   "execution_count": 48,
   "id": "374accea-8b40-4c40-b54a-46f1f4ebdec6",
   "metadata": {
    "tags": []
   },
   "outputs": [],
   "source": [
    "from sklearn.naive_bayes import MultinomialNB\n",
    "from sklearn.tree import DecisionTreeClassifier\n",
    "from sklearn.ensemble import AdaBoostClassifier\n",
    "from sklearn.ensemble import RandomForestClassifier\n",
    "\n",
    "mnb = MultinomialNB()\n",
    "dtree = DecisionTreeClassifier(max_depth=5)\n",
    "ada = AdaBoostClassifier(n_estimators=50, random_state=2)\n",
    "rf = RandomForestClassifier(n_estimators=50, random_state=2)"
   ]
  },
  {
   "cell_type": "code",
   "execution_count": 50,
   "id": "1140135f-139c-4228-901b-954666e2f67e",
   "metadata": {
    "tags": []
   },
   "outputs": [
    {
     "data": {
      "text/html": [
       "<style>#sk-container-id-1 {color: black;}#sk-container-id-1 pre{padding: 0;}#sk-container-id-1 div.sk-toggleable {background-color: white;}#sk-container-id-1 label.sk-toggleable__label {cursor: pointer;display: block;width: 100%;margin-bottom: 0;padding: 0.3em;box-sizing: border-box;text-align: center;}#sk-container-id-1 label.sk-toggleable__label-arrow:before {content: \"▸\";float: left;margin-right: 0.25em;color: #696969;}#sk-container-id-1 label.sk-toggleable__label-arrow:hover:before {color: black;}#sk-container-id-1 div.sk-estimator:hover label.sk-toggleable__label-arrow:before {color: black;}#sk-container-id-1 div.sk-toggleable__content {max-height: 0;max-width: 0;overflow: hidden;text-align: left;background-color: #f0f8ff;}#sk-container-id-1 div.sk-toggleable__content pre {margin: 0.2em;color: black;border-radius: 0.25em;background-color: #f0f8ff;}#sk-container-id-1 input.sk-toggleable__control:checked~div.sk-toggleable__content {max-height: 200px;max-width: 100%;overflow: auto;}#sk-container-id-1 input.sk-toggleable__control:checked~label.sk-toggleable__label-arrow:before {content: \"▾\";}#sk-container-id-1 div.sk-estimator input.sk-toggleable__control:checked~label.sk-toggleable__label {background-color: #d4ebff;}#sk-container-id-1 div.sk-label input.sk-toggleable__control:checked~label.sk-toggleable__label {background-color: #d4ebff;}#sk-container-id-1 input.sk-hidden--visually {border: 0;clip: rect(1px 1px 1px 1px);clip: rect(1px, 1px, 1px, 1px);height: 1px;margin: -1px;overflow: hidden;padding: 0;position: absolute;width: 1px;}#sk-container-id-1 div.sk-estimator {font-family: monospace;background-color: #f0f8ff;border: 1px dotted black;border-radius: 0.25em;box-sizing: border-box;margin-bottom: 0.5em;}#sk-container-id-1 div.sk-estimator:hover {background-color: #d4ebff;}#sk-container-id-1 div.sk-parallel-item::after {content: \"\";width: 100%;border-bottom: 1px solid gray;flex-grow: 1;}#sk-container-id-1 div.sk-label:hover label.sk-toggleable__label {background-color: #d4ebff;}#sk-container-id-1 div.sk-serial::before {content: \"\";position: absolute;border-left: 1px solid gray;box-sizing: border-box;top: 0;bottom: 0;left: 50%;z-index: 0;}#sk-container-id-1 div.sk-serial {display: flex;flex-direction: column;align-items: center;background-color: white;padding-right: 0.2em;padding-left: 0.2em;position: relative;}#sk-container-id-1 div.sk-item {position: relative;z-index: 1;}#sk-container-id-1 div.sk-parallel {display: flex;align-items: stretch;justify-content: center;background-color: white;position: relative;}#sk-container-id-1 div.sk-item::before, #sk-container-id-1 div.sk-parallel-item::before {content: \"\";position: absolute;border-left: 1px solid gray;box-sizing: border-box;top: 0;bottom: 0;left: 50%;z-index: -1;}#sk-container-id-1 div.sk-parallel-item {display: flex;flex-direction: column;z-index: 1;position: relative;background-color: white;}#sk-container-id-1 div.sk-parallel-item:first-child::after {align-self: flex-end;width: 50%;}#sk-container-id-1 div.sk-parallel-item:last-child::after {align-self: flex-start;width: 50%;}#sk-container-id-1 div.sk-parallel-item:only-child::after {width: 0;}#sk-container-id-1 div.sk-dashed-wrapped {border: 1px dashed gray;margin: 0 0.4em 0.5em 0.4em;box-sizing: border-box;padding-bottom: 0.4em;background-color: white;}#sk-container-id-1 div.sk-label label {font-family: monospace;font-weight: bold;display: inline-block;line-height: 1.2em;}#sk-container-id-1 div.sk-label-container {text-align: center;}#sk-container-id-1 div.sk-container {/* jupyter's `normalize.less` sets `[hidden] { display: none; }` but bootstrap.min.css set `[hidden] { display: none !important; }` so we also need the `!important` here to be able to override the default hidden behavior on the sphinx rendered scikit-learn.org. See: https://github.com/scikit-learn/scikit-learn/issues/21755 */display: inline-block !important;position: relative;}#sk-container-id-1 div.sk-text-repr-fallback {display: none;}</style><div id=\"sk-container-id-1\" class=\"sk-top-container\"><div class=\"sk-text-repr-fallback\"><pre>RandomForestClassifier(n_estimators=50, random_state=2)</pre><b>In a Jupyter environment, please rerun this cell to show the HTML representation or trust the notebook. <br />On GitHub, the HTML representation is unable to render, please try loading this page with nbviewer.org.</b></div><div class=\"sk-container\" hidden><div class=\"sk-item\"><div class=\"sk-estimator sk-toggleable\"><input class=\"sk-toggleable__control sk-hidden--visually\" id=\"sk-estimator-id-1\" type=\"checkbox\" checked><label for=\"sk-estimator-id-1\" class=\"sk-toggleable__label sk-toggleable__label-arrow\">RandomForestClassifier</label><div class=\"sk-toggleable__content\"><pre>RandomForestClassifier(n_estimators=50, random_state=2)</pre></div></div></div></div></div>"
      ],
      "text/plain": [
       "RandomForestClassifier(n_estimators=50, random_state=2)"
      ]
     },
     "execution_count": 50,
     "metadata": {},
     "output_type": "execute_result"
    }
   ],
   "source": [
    "mnb.fit(X_train, y_train)\n",
    "dtree.fit(X_train, y_train)\n",
    "ada.fit(X_train, y_train)\n",
    "rf.fit(X_train, y_train)"
   ]
  },
  {
   "cell_type": "code",
   "execution_count": 51,
   "id": "1dea7823-e79c-449f-80ea-15293df31e70",
   "metadata": {
    "tags": []
   },
   "outputs": [],
   "source": [
    "mnbtrain = mnb.predict(X_train)\n",
    "mnbtest = mnb.predict(X_test)\n",
    "\n",
    "dtreetrain = dtree.predict(X_train)\n",
    "dtreetest = dtree.predict(X_test)\n",
    "\n",
    "adatrain = ada.predict(X_train)\n",
    "adatest = ada.predict(X_test)\n",
    "\n",
    "rftrain = rf.predict(X_train)\n",
    "rftest = rf.predict(X_test)"
   ]
  },
  {
   "cell_type": "markdown",
   "id": "30304ab3-a6a6-4864-a8d1-a6cda9235c62",
   "metadata": {},
   "source": [
    "## Comparison Of Accuracies"
   ]
  },
  {
   "cell_type": "markdown",
   "id": "bf3e6661-99de-47cf-8a29-858d872d8d42",
   "metadata": {},
   "source": [
    "### For Multi-Nomial Naive Bayes Classifier"
   ]
  },
  {
   "cell_type": "code",
   "execution_count": 54,
   "id": "b40143a1-5b02-499c-9488-e4a51f32392a",
   "metadata": {
    "tags": []
   },
   "outputs": [
    {
     "name": "stdout",
     "output_type": "stream",
     "text": [
      "The Accuracy of the Model is  0.9789600967351875\n",
      "[[3618    2]\n",
      " [  85  430]]\n",
      "              precision    recall  f1-score   support\n",
      "\n",
      "           0       0.98      1.00      0.99      3620\n",
      "           1       1.00      0.83      0.91       515\n",
      "\n",
      "    accuracy                           0.98      4135\n",
      "   macro avg       0.99      0.92      0.95      4135\n",
      "weighted avg       0.98      0.98      0.98      4135\n",
      "\n",
      "None\n",
      "The Accuracy of the Model is  0.9709864603481625\n",
      "[[896   0]\n",
      " [ 30 108]]\n",
      "              precision    recall  f1-score   support\n",
      "\n",
      "           0       0.97      1.00      0.98       896\n",
      "           1       1.00      0.78      0.88       138\n",
      "\n",
      "    accuracy                           0.97      1034\n",
      "   macro avg       0.98      0.89      0.93      1034\n",
      "weighted avg       0.97      0.97      0.97      1034\n",
      "\n",
      "None\n"
     ]
    }
   ],
   "source": [
    "print(acc_report(y_train, mnbtrain))\n",
    "print(acc_report(y_test, mnbtest))"
   ]
  },
  {
   "cell_type": "markdown",
   "id": "e05e9458-49a2-426b-bd8a-e691d3283a34",
   "metadata": {},
   "source": [
    "- The Train Accuracy is: 97.89\n",
    "- The Test Accuracy is: 97.09"
   ]
  },
  {
   "cell_type": "markdown",
   "id": "72fefbc8-920a-4106-9057-6738ff37e832",
   "metadata": {},
   "source": [
    "### For Decision Tree Classifier"
   ]
  },
  {
   "cell_type": "code",
   "execution_count": 55,
   "id": "caf1e921-05f8-4795-b6e8-f35dda1a7dfc",
   "metadata": {
    "tags": []
   },
   "outputs": [
    {
     "name": "stdout",
     "output_type": "stream",
     "text": [
      "The Accuracy of the Model is  0.9492140266021766\n",
      "[[3585   35]\n",
      " [ 175  340]]\n",
      "              precision    recall  f1-score   support\n",
      "\n",
      "           0       0.95      0.99      0.97      3620\n",
      "           1       0.91      0.66      0.76       515\n",
      "\n",
      "    accuracy                           0.95      4135\n",
      "   macro avg       0.93      0.83      0.87      4135\n",
      "weighted avg       0.95      0.95      0.95      4135\n",
      "\n",
      "None\n",
      "The Accuracy of the Model is  0.9323017408123792\n",
      "[[879  17]\n",
      " [ 53  85]]\n",
      "              precision    recall  f1-score   support\n",
      "\n",
      "           0       0.94      0.98      0.96       896\n",
      "           1       0.83      0.62      0.71       138\n",
      "\n",
      "    accuracy                           0.93      1034\n",
      "   macro avg       0.89      0.80      0.84      1034\n",
      "weighted avg       0.93      0.93      0.93      1034\n",
      "\n",
      "None\n"
     ]
    }
   ],
   "source": [
    "print(acc_report(y_train, dtreetrain))\n",
    "print(acc_report(y_test, dtreetest))"
   ]
  },
  {
   "cell_type": "markdown",
   "id": "c9a4248e-9c69-4dc0-9ea9-fdaa2f5f3615",
   "metadata": {},
   "source": [
    "- The Train Accuracy is: 94.29 \n",
    "- The Test Accuracy is: 93.23"
   ]
  },
  {
   "cell_type": "markdown",
   "id": "a01ee641-c71c-4ac8-8780-d79559fa2f22",
   "metadata": {},
   "source": [
    "### For ADA Boost Classifier"
   ]
  },
  {
   "cell_type": "code",
   "execution_count": 56,
   "id": "e844e794-02e4-42b9-bdca-85c1b41db829",
   "metadata": {
    "tags": []
   },
   "outputs": [
    {
     "name": "stdout",
     "output_type": "stream",
     "text": [
      "The Accuracy of the Model is  0.9717049576783555\n",
      "[[3603   17]\n",
      " [ 100  415]]\n",
      "              precision    recall  f1-score   support\n",
      "\n",
      "           0       0.97      1.00      0.98      3620\n",
      "           1       0.96      0.81      0.88       515\n",
      "\n",
      "    accuracy                           0.97      4135\n",
      "   macro avg       0.97      0.90      0.93      4135\n",
      "weighted avg       0.97      0.97      0.97      4135\n",
      "\n",
      "None\n",
      "The Accuracy of the Model is  0.960348162475822\n",
      "[[888   8]\n",
      " [ 33 105]]\n",
      "              precision    recall  f1-score   support\n",
      "\n",
      "           0       0.96      0.99      0.98       896\n",
      "           1       0.93      0.76      0.84       138\n",
      "\n",
      "    accuracy                           0.96      1034\n",
      "   macro avg       0.95      0.88      0.91      1034\n",
      "weighted avg       0.96      0.96      0.96      1034\n",
      "\n",
      "None\n"
     ]
    }
   ],
   "source": [
    "print(acc_report(y_train, adatrain))\n",
    "print(acc_report(y_test, adatest))"
   ]
  },
  {
   "cell_type": "markdown",
   "id": "b8ef0914-2958-4435-9bd4-5281afa1ca53",
   "metadata": {},
   "source": [
    "- The Train Accuracy is: 97.17\n",
    "- The Test Accuracy is: 96.03"
   ]
  },
  {
   "cell_type": "markdown",
   "id": "b985dbea-aac8-4307-8bf5-1bb8338c1291",
   "metadata": {},
   "source": [
    "### For Random Forest Classifier"
   ]
  },
  {
   "cell_type": "code",
   "execution_count": 57,
   "id": "2827686f-32d2-4d33-b399-545403774ab7",
   "metadata": {
    "tags": []
   },
   "outputs": [
    {
     "name": "stdout",
     "output_type": "stream",
     "text": [
      "The Accuracy of the Model is  0.999758162031439\n",
      "[[3620    0]\n",
      " [   1  514]]\n",
      "              precision    recall  f1-score   support\n",
      "\n",
      "           0       1.00      1.00      1.00      3620\n",
      "           1       1.00      1.00      1.00       515\n",
      "\n",
      "    accuracy                           1.00      4135\n",
      "   macro avg       1.00      1.00      1.00      4135\n",
      "weighted avg       1.00      1.00      1.00      4135\n",
      "\n",
      "None\n",
      "The Accuracy of the Model is  0.9758220502901354\n",
      "[[894   2]\n",
      " [ 23 115]]\n",
      "              precision    recall  f1-score   support\n",
      "\n",
      "           0       0.97      1.00      0.99       896\n",
      "           1       0.98      0.83      0.90       138\n",
      "\n",
      "    accuracy                           0.98      1034\n",
      "   macro avg       0.98      0.92      0.94      1034\n",
      "weighted avg       0.98      0.98      0.97      1034\n",
      "\n",
      "None\n"
     ]
    }
   ],
   "source": [
    "print(acc_report(y_train, rftrain))\n",
    "print(acc_report(y_test, rftest))"
   ]
  },
  {
   "cell_type": "markdown",
   "id": "fff5d3ef-cb17-465f-bd2c-4870195d9973",
   "metadata": {},
   "source": [
    "- The Train Accuracy is: 99.97\n",
    "- The Test Accuracy is: 97.58"
   ]
  },
  {
   "cell_type": "markdown",
   "id": "fbeda9f4-543c-4a43-b64d-39f8fc07eec7",
   "metadata": {},
   "source": [
    "## Conclusion "
   ]
  },
  {
   "cell_type": "markdown",
   "id": "e875c534-6440-412d-90bf-73cdfb550325",
   "metadata": {},
   "source": [
    "- Multi-Nomial Naive Bayes Will Be Chosen as it has Low Bias and Varience\n",
    "- Low Bias:\n",
    "    - Low bias indicates that the model's predictions are very close to the true values in the training data.\n",
    "    - A model with low bias fits the training data well and captures the underlying patterns effectively.\n",
    "    - It doesn't make strong assumptions about the data, allowing it to model complex relationships.\n",
    "    - In terms of errors, low bias implies low training error.\n",
    "- Low Varience\n",
    "    - Low variance means that the model's predictions do not vary much when the model is trained on different subsets of the training data or with small perturbations in the data.\n",
    "    - A model with low variance is stable and doesn't overfit the training data.\n",
    "    - It generalizes well to unseen data because it doesn't learn noise or random fluctuations in the training data.\n",
    "    - In terms of errors, low variance implies low testing error."
   ]
  },
  {
   "cell_type": "markdown",
   "id": "f2aa85b8-9641-4f24-81e5-13b2779d5b17",
   "metadata": {},
   "source": [
    "# Deployment"
   ]
  },
  {
   "cell_type": "code",
   "execution_count": 59,
   "id": "0fa7e9b7-6a85-4bdb-b2f8-39164ae0713a",
   "metadata": {
    "tags": []
   },
   "outputs": [],
   "source": [
    "import pickle\n",
    "pickle.dump(tfidf,open('vectorizer.pkl','wb'))\n",
    "pickle.dump(mnb,open('Spam-SMS-Detector.pkl','wb'))"
   ]
  },
  {
   "cell_type": "code",
   "execution_count": 64,
   "id": "6ea50fcb-547a-4ad0-ad22-bf317aa4464d",
   "metadata": {
    "collapsed": true,
    "jupyter": {
     "outputs_hidden": true
    },
    "tags": []
   },
   "outputs": [
    {
     "name": "stdout",
     "output_type": "stream",
     "text": [
      "Collecting gradio\n",
      "  Downloading gradio-3.42.0-py3-none-any.whl (20.1 MB)\n",
      "                                              0.0/20.1 MB ? eta -:--:--\n",
      "                                              0.0/20.1 MB 1.4 MB/s eta 0:00:15\n",
      "                                              0.0/20.1 MB 1.4 MB/s eta 0:00:15\n",
      "                                             0.1/20.1 MB 409.6 kB/s eta 0:00:49\n",
      "                                             0.1/20.1 MB 656.4 kB/s eta 0:00:31\n",
      "                                             0.1/20.1 MB 656.4 kB/s eta 0:00:31\n",
      "                                             0.2/20.1 MB 737.3 kB/s eta 0:00:27\n",
      "                                             0.2/20.1 MB 801.7 kB/s eta 0:00:25\n",
      "                                             0.3/20.1 MB 912.8 kB/s eta 0:00:22\n",
      "                                              0.4/20.1 MB 1.1 MB/s eta 0:00:19\n",
      "                                              0.5/20.1 MB 1.0 MB/s eta 0:00:20\n",
      "                                              0.5/20.1 MB 1.0 MB/s eta 0:00:19\n",
      "                                              0.5/20.1 MB 1.0 MB/s eta 0:00:19\n",
      "                                              0.5/20.1 MB 1.0 MB/s eta 0:00:19\n",
      "                                              0.5/20.1 MB 1.0 MB/s eta 0:00:19\n",
      "     -                                       0.5/20.1 MB 792.4 kB/s eta 0:00:25\n",
      "     -                                       0.6/20.1 MB 812.9 kB/s eta 0:00:24\n",
      "     -                                       0.6/20.1 MB 812.9 kB/s eta 0:00:24\n",
      "     -                                       0.7/20.1 MB 832.3 kB/s eta 0:00:24\n",
      "     -                                       0.7/20.1 MB 826.0 kB/s eta 0:00:24\n",
      "     -                                       0.7/20.1 MB 826.0 kB/s eta 0:00:24\n",
      "     -                                       0.7/20.1 MB 826.0 kB/s eta 0:00:24\n",
      "     -                                       0.7/20.1 MB 826.0 kB/s eta 0:00:24\n",
      "     -                                       0.7/20.1 MB 674.8 kB/s eta 0:00:29\n",
      "     -                                       0.7/20.1 MB 674.8 kB/s eta 0:00:29\n",
      "     -                                       0.7/20.1 MB 674.8 kB/s eta 0:00:29\n",
      "     -                                       0.7/20.1 MB 674.8 kB/s eta 0:00:29\n",
      "     --                                      1.0/20.1 MB 838.1 kB/s eta 0:00:23\n",
      "     --                                      1.1/20.1 MB 831.4 kB/s eta 0:00:23\n",
      "     --                                      1.1/20.1 MB 825.1 kB/s eta 0:00:24\n",
      "     --                                      1.1/20.1 MB 831.1 kB/s eta 0:00:23\n",
      "     --                                      1.2/20.1 MB 825.1 kB/s eta 0:00:23\n",
      "     --                                      1.2/20.1 MB 824.6 kB/s eta 0:00:23\n",
      "     --                                      1.2/20.1 MB 819.2 kB/s eta 0:00:24\n",
      "     --                                      1.3/20.1 MB 814.2 kB/s eta 0:00:24\n",
      "     --                                      1.3/20.1 MB 809.9 kB/s eta 0:00:24\n",
      "     --                                      1.3/20.1 MB 800.3 kB/s eta 0:00:24\n",
      "     --                                      1.3/20.1 MB 800.3 kB/s eta 0:00:24\n",
      "     --                                      1.3/20.1 MB 800.3 kB/s eta 0:00:24\n",
      "     --                                      1.3/20.1 MB 800.3 kB/s eta 0:00:24\n",
      "     --                                      1.4/20.1 MB 739.4 kB/s eta 0:00:26\n",
      "     --                                      1.4/20.1 MB 748.2 kB/s eta 0:00:25\n",
      "     --                                      1.5/20.1 MB 756.5 kB/s eta 0:00:25\n",
      "     ---                                     1.6/20.1 MB 790.9 kB/s eta 0:00:24\n",
      "     ---                                     1.6/20.1 MB 792.8 kB/s eta 0:00:24\n",
      "     ---                                     1.6/20.1 MB 795.4 kB/s eta 0:00:24\n",
      "     ---                                     1.7/20.1 MB 792.6 kB/s eta 0:00:24\n",
      "     ---                                     1.7/20.1 MB 793.2 kB/s eta 0:00:24\n",
      "     ---                                     1.7/20.1 MB 780.9 kB/s eta 0:00:24\n",
      "     ---                                     1.8/20.1 MB 782.8 kB/s eta 0:00:24\n",
      "     ---                                     1.8/20.1 MB 775.1 kB/s eta 0:00:24\n",
      "     ---                                     1.8/20.1 MB 773.6 kB/s eta 0:00:24\n",
      "     ---                                     1.9/20.1 MB 775.5 kB/s eta 0:00:24\n",
      "     ---                                     1.9/20.1 MB 774.6 kB/s eta 0:00:24\n",
      "     ---                                     1.9/20.1 MB 768.1 kB/s eta 0:00:24\n",
      "     ---                                     2.0/20.1 MB 768.7 kB/s eta 0:00:24\n",
      "     ---                                     2.0/20.1 MB 762.6 kB/s eta 0:00:24\n",
      "     ---                                     2.0/20.1 MB 760.7 kB/s eta 0:00:24\n",
      "     ---                                     2.0/20.1 MB 763.4 kB/s eta 0:00:24\n",
      "     ----                                    2.1/20.1 MB 761.5 kB/s eta 0:00:24\n",
      "     ----                                    2.1/20.1 MB 759.2 kB/s eta 0:00:24\n",
      "     ----                                    2.1/20.1 MB 762.2 kB/s eta 0:00:24\n",
      "     ----                                    2.2/20.1 MB 756.4 kB/s eta 0:00:24\n",
      "     ----                                    2.2/20.1 MB 761.8 kB/s eta 0:00:24\n",
      "     ----                                    2.2/20.1 MB 755.9 kB/s eta 0:00:24\n",
      "     ----                                    2.3/20.1 MB 758.4 kB/s eta 0:00:24\n",
      "     ----                                    2.3/20.1 MB 756.8 kB/s eta 0:00:24\n",
      "     ----                                    2.3/20.1 MB 754.8 kB/s eta 0:00:24\n",
      "     ----                                    2.4/20.1 MB 753.3 kB/s eta 0:00:24\n",
      "     ----                                    2.4/20.1 MB 758.6 kB/s eta 0:00:24\n",
      "     ----                                    2.4/20.1 MB 757.3 kB/s eta 0:00:24\n",
      "     ----                                    2.5/20.1 MB 758.4 kB/s eta 0:00:24\n",
      "     ----                                    2.5/20.1 MB 754.4 kB/s eta 0:00:24\n",
      "     ----                                    2.5/20.1 MB 753.0 kB/s eta 0:00:24\n",
      "     -----                                   2.6/20.1 MB 757.6 kB/s eta 0:00:24\n",
      "     -----                                   2.6/20.1 MB 756.2 kB/s eta 0:00:24\n",
      "     -----                                   2.7/20.1 MB 754.8 kB/s eta 0:00:24\n",
      "     -----                                   2.7/20.1 MB 756.9 kB/s eta 0:00:24\n",
      "     -----                                   2.7/20.1 MB 758.1 kB/s eta 0:00:23\n",
      "     -----                                   2.8/20.1 MB 756.7 kB/s eta 0:00:23\n",
      "     -----                                   2.8/20.1 MB 757.7 kB/s eta 0:00:23\n",
      "     -----                                   2.8/20.1 MB 756.4 kB/s eta 0:00:23\n",
      "     -----                                   2.9/20.1 MB 758.3 kB/s eta 0:00:23\n",
      "     -----                                   2.9/20.1 MB 759.7 kB/s eta 0:00:23\n",
      "     -----                                   2.9/20.1 MB 758.4 kB/s eta 0:00:23\n",
      "     -----                                   3.0/20.1 MB 762.4 kB/s eta 0:00:23\n",
      "     -----                                   3.0/20.1 MB 759.0 kB/s eta 0:00:23\n",
      "     -----                                   3.1/20.1 MB 760.0 kB/s eta 0:00:23\n",
      "     ------                                  3.1/20.1 MB 758.8 kB/s eta 0:00:23\n",
      "     ------                                  3.1/20.1 MB 755.1 kB/s eta 0:00:23\n",
      "     ------                                  3.2/20.1 MB 756.4 kB/s eta 0:00:23\n",
      "     ------                                  3.2/20.1 MB 757.7 kB/s eta 0:00:23\n",
      "     ------                                  3.2/20.1 MB 756.6 kB/s eta 0:00:23\n",
      "     ------                                  3.3/20.1 MB 758.3 kB/s eta 0:00:23\n",
      "     ------                                  3.3/20.1 MB 759.9 kB/s eta 0:00:23\n",
      "     ------                                  3.3/20.1 MB 756.0 kB/s eta 0:00:23\n",
      "     ------                                  3.4/20.1 MB 760.0 kB/s eta 0:00:23\n",
      "     ------                                  3.4/20.1 MB 755.9 kB/s eta 0:00:23\n",
      "     ------                                  3.4/20.1 MB 757.5 kB/s eta 0:00:23\n",
      "     ------                                  3.5/20.1 MB 756.4 kB/s eta 0:00:22\n",
      "     ------                                  3.5/20.1 MB 755.4 kB/s eta 0:00:22\n",
      "     ------                                  3.5/20.1 MB 754.4 kB/s eta 0:00:22\n",
      "     ------                                  3.6/20.1 MB 755.5 kB/s eta 0:00:22\n",
      "     ------                                  3.6/20.1 MB 754.5 kB/s eta 0:00:22\n",
      "     -------                                 3.6/20.1 MB 755.4 kB/s eta 0:00:22\n",
      "     -------                                 3.7/20.1 MB 757.0 kB/s eta 0:00:22\n",
      "     -------                                 3.7/20.1 MB 756.0 kB/s eta 0:00:22\n",
      "     -------                                 3.7/20.1 MB 755.0 kB/s eta 0:00:22\n",
      "     -------                                 3.8/20.1 MB 754.4 kB/s eta 0:00:22\n",
      "     -------                                 3.8/20.1 MB 755.1 kB/s eta 0:00:22\n",
      "     -------                                 3.8/20.1 MB 754.2 kB/s eta 0:00:22\n",
      "     -------                                 3.9/20.1 MB 753.3 kB/s eta 0:00:22\n",
      "     -------                                 3.9/20.1 MB 752.4 kB/s eta 0:00:22\n",
      "     -------                                 3.9/20.1 MB 751.6 kB/s eta 0:00:22\n",
      "     -------                                 4.0/20.1 MB 752.7 kB/s eta 0:00:22\n",
      "     -------                                 4.0/20.1 MB 752.0 kB/s eta 0:00:22\n",
      "     -------                                 4.0/20.1 MB 753.2 kB/s eta 0:00:22\n",
      "     -------                                 4.1/20.1 MB 752.3 kB/s eta 0:00:22\n",
      "     -------                                 4.1/20.1 MB 751.5 kB/s eta 0:00:22\n",
      "     --------                                4.1/20.1 MB 750.6 kB/s eta 0:00:22\n",
      "     --------                                4.2/20.1 MB 749.8 kB/s eta 0:00:22\n",
      "     --------                                4.2/20.1 MB 751.2 kB/s eta 0:00:22\n",
      "     --------                                4.2/20.1 MB 749.8 kB/s eta 0:00:22\n",
      "     --------                                4.3/20.1 MB 751.0 kB/s eta 0:00:22\n",
      "     --------                                4.3/20.1 MB 750.4 kB/s eta 0:00:22\n",
      "     --------                                4.3/20.1 MB 751.3 kB/s eta 0:00:21\n",
      "     --------                                4.4/20.1 MB 750.6 kB/s eta 0:00:21\n",
      "     --------                                4.4/20.1 MB 751.8 kB/s eta 0:00:21\n",
      "     --------                                4.4/20.1 MB 750.7 kB/s eta 0:00:21\n",
      "     --------                                4.5/20.1 MB 750.3 kB/s eta 0:00:21\n",
      "     --------                                4.5/20.1 MB 749.1 kB/s eta 0:00:21\n",
      "     --------                                4.5/20.1 MB 748.3 kB/s eta 0:00:21\n",
      "     --------                                4.6/20.1 MB 749.6 kB/s eta 0:00:21\n",
      "     --------                                4.6/20.1 MB 748.8 kB/s eta 0:00:21\n",
      "     ---------                               4.6/20.1 MB 749.8 kB/s eta 0:00:21\n",
      "     ---------                               4.7/20.1 MB 749.0 kB/s eta 0:00:21\n",
      "     ---------                               4.7/20.1 MB 748.3 kB/s eta 0:00:21\n",
      "     ---------                               4.7/20.1 MB 749.5 kB/s eta 0:00:21\n",
      "     ---------                               4.8/20.1 MB 748.5 kB/s eta 0:00:21\n",
      "     ---------                               4.8/20.1 MB 749.4 kB/s eta 0:00:21\n",
      "     ---------                               4.9/20.1 MB 748.8 kB/s eta 0:00:21\n",
      "     ---------                               4.9/20.1 MB 748.2 kB/s eta 0:00:21\n",
      "     ---------                               4.9/20.1 MB 747.5 kB/s eta 0:00:21\n",
      "     ---------                               4.9/20.1 MB 748.6 kB/s eta 0:00:21\n",
      "     ---------                               5.0/20.1 MB 747.7 kB/s eta 0:00:21\n",
      "     ---------                               5.0/20.1 MB 747.3 kB/s eta 0:00:21\n",
      "     ---------                               5.1/20.1 MB 747.9 kB/s eta 0:00:21\n",
      "     ---------                               5.1/20.1 MB 747.2 kB/s eta 0:00:21\n",
      "     ---------                               5.1/20.1 MB 746.7 kB/s eta 0:00:21\n",
      "     ----------                              5.2/20.1 MB 747.6 kB/s eta 0:00:20\n",
      "     ----------                              5.2/20.1 MB 746.9 kB/s eta 0:00:20\n",
      "     ----------                              5.2/20.1 MB 746.3 kB/s eta 0:00:20\n",
      "     ----------                              5.3/20.1 MB 747.4 kB/s eta 0:00:20\n",
      "     ----------                              5.3/20.1 MB 745.1 kB/s eta 0:00:20\n",
      "     ----------                              5.3/20.1 MB 747.6 kB/s eta 0:00:20\n",
      "     ----------                              5.4/20.1 MB 747.0 kB/s eta 0:00:20\n",
      "     ----------                              5.4/20.1 MB 746.4 kB/s eta 0:00:20\n",
      "     ----------                              5.4/20.1 MB 745.8 kB/s eta 0:00:20\n",
      "     ----------                              5.4/20.1 MB 745.2 kB/s eta 0:00:20\n",
      "     ----------                              5.5/20.1 MB 744.7 kB/s eta 0:00:20\n",
      "     ----------                              5.5/20.1 MB 744.1 kB/s eta 0:00:20\n",
      "     ----------                              5.6/20.1 MB 746.4 kB/s eta 0:00:20\n",
      "     ----------                              5.6/20.1 MB 744.3 kB/s eta 0:00:20\n",
      "     ----------                              5.6/20.1 MB 745.3 kB/s eta 0:00:20\n",
      "     ----------                              5.6/20.1 MB 744.8 kB/s eta 0:00:20\n",
      "     -----------                             5.7/20.1 MB 743.9 kB/s eta 0:00:20\n",
      "     -----------                             5.7/20.1 MB 744.8 kB/s eta 0:00:20\n",
      "     -----------                             5.8/20.1 MB 744.3 kB/s eta 0:00:20\n",
      "     -----------                             5.8/20.1 MB 745.1 kB/s eta 0:00:20\n",
      "     -----------                             5.8/20.1 MB 744.5 kB/s eta 0:00:20\n",
      "     -----------                             5.9/20.1 MB 744.0 kB/s eta 0:00:20\n",
      "     -----------                             5.9/20.1 MB 743.5 kB/s eta 0:00:20\n",
      "     -----------                             5.9/20.1 MB 742.9 kB/s eta 0:00:20\n",
      "     -----------                             6.0/20.1 MB 743.7 kB/s eta 0:00:20\n",
      "     -----------                             6.0/20.1 MB 743.2 kB/s eta 0:00:19\n",
      "     -----------                             6.0/20.1 MB 742.7 kB/s eta 0:00:19\n",
      "     -----------                             6.1/20.1 MB 742.2 kB/s eta 0:00:19\n",
      "     -----------                             6.1/20.1 MB 744.2 kB/s eta 0:00:19\n",
      "     -----------                             6.1/20.1 MB 743.9 kB/s eta 0:00:19\n",
      "     -----------                             6.2/20.1 MB 743.2 kB/s eta 0:00:19\n",
      "     ------------                            6.2/20.1 MB 743.9 kB/s eta 0:00:19\n",
      "     ------------                            6.2/20.1 MB 743.4 kB/s eta 0:00:19\n",
      "     ------------                            6.3/20.1 MB 742.9 kB/s eta 0:00:19\n",
      "     ------------                            6.3/20.1 MB 742.5 kB/s eta 0:00:19\n",
      "     ------------                            6.3/20.1 MB 742.0 kB/s eta 0:00:19\n",
      "     ------------                            6.4/20.1 MB 742.7 kB/s eta 0:00:19\n",
      "     ------------                            6.4/20.1 MB 742.2 kB/s eta 0:00:19\n",
      "     ------------                            6.4/20.1 MB 741.7 kB/s eta 0:00:19\n",
      "     ------------                            6.5/20.1 MB 742.6 kB/s eta 0:00:19\n",
      "     ------------                            6.5/20.1 MB 742.1 kB/s eta 0:00:19\n",
      "     ------------                            6.5/20.1 MB 742.8 kB/s eta 0:00:19\n",
      "     ------------                            6.6/20.1 MB 742.4 kB/s eta 0:00:19\n",
      "     ------------                            6.6/20.1 MB 741.9 kB/s eta 0:00:19\n",
      "     ------------                            6.6/20.1 MB 741.4 kB/s eta 0:00:19\n",
      "     ------------                            6.7/20.1 MB 740.9 kB/s eta 0:00:19\n",
      "     -------------                           6.7/20.1 MB 741.6 kB/s eta 0:00:19\n",
      "     -------------                           6.7/20.1 MB 741.1 kB/s eta 0:00:19\n",
      "     -------------                           6.8/20.1 MB 741.8 kB/s eta 0:00:18\n",
      "     -------------                           6.8/20.1 MB 742.6 kB/s eta 0:00:18\n",
      "     -------------                           6.8/20.1 MB 742.2 kB/s eta 0:00:18\n",
      "     -------------                           6.9/20.1 MB 741.7 kB/s eta 0:00:18\n",
      "     -------------                           6.9/20.1 MB 741.3 kB/s eta 0:00:18\n",
      "     -------------                           6.9/20.1 MB 742.0 kB/s eta 0:00:18\n",
      "     -------------                           7.0/20.1 MB 741.6 kB/s eta 0:00:18\n",
      "     -------------                           7.0/20.1 MB 741.1 kB/s eta 0:00:18\n",
      "     -------------                           7.0/20.1 MB 742.0 kB/s eta 0:00:18\n",
      "     -------------                           7.0/20.1 MB 742.0 kB/s eta 0:00:18\n",
      "     -------------                           7.0/20.1 MB 742.0 kB/s eta 0:00:18\n",
      "     -------------                           7.0/20.1 MB 742.0 kB/s eta 0:00:18\n",
      "     -------------                           7.1/20.1 MB 737.2 kB/s eta 0:00:18\n",
      "     -------------                           7.1/20.1 MB 737.2 kB/s eta 0:00:18\n",
      "     -------------                           7.1/20.1 MB 732.0 kB/s eta 0:00:18\n",
      "     --------------                          7.3/20.1 MB 741.1 kB/s eta 0:00:18\n",
      "     --------------                          7.3/20.1 MB 740.6 kB/s eta 0:00:18\n",
      "     --------------                          7.3/20.1 MB 740.3 kB/s eta 0:00:18\n",
      "     --------------                          7.4/20.1 MB 740.9 kB/s eta 0:00:18\n",
      "     --------------                          7.4/20.1 MB 738.5 kB/s eta 0:00:18\n",
      "     --------------                          7.4/20.1 MB 737.9 kB/s eta 0:00:18\n",
      "     --------------                          7.4/20.1 MB 736.7 kB/s eta 0:00:18\n",
      "     --------------                          7.5/20.1 MB 735.2 kB/s eta 0:00:18\n",
      "     --------------                          7.5/20.1 MB 736.0 kB/s eta 0:00:18\n",
      "     --------------                          7.5/20.1 MB 734.6 kB/s eta 0:00:18\n",
      "     --------------                          7.5/20.1 MB 733.1 kB/s eta 0:00:18\n",
      "     --------------                          7.6/20.1 MB 733.7 kB/s eta 0:00:18\n",
      "     --------------                          7.6/20.1 MB 732.5 kB/s eta 0:00:18\n",
      "     --------------                          7.6/20.1 MB 732.1 kB/s eta 0:00:18\n",
      "     --------------                          7.7/20.1 MB 731.8 kB/s eta 0:00:17\n",
      "     --------------                          7.7/20.1 MB 731.4 kB/s eta 0:00:17\n",
      "     --------------                          7.7/20.1 MB 730.0 kB/s eta 0:00:17\n",
      "     ---------------                         7.7/20.1 MB 730.9 kB/s eta 0:00:17\n",
      "     ---------------                         7.8/20.1 MB 730.5 kB/s eta 0:00:17\n",
      "     ---------------                         7.8/20.1 MB 729.2 kB/s eta 0:00:17\n",
      "     ---------------                         7.8/20.1 MB 729.8 kB/s eta 0:00:17\n",
      "     ---------------                         7.9/20.1 MB 728.4 kB/s eta 0:00:17\n",
      "     ---------------                         7.9/20.1 MB 728.2 kB/s eta 0:00:17\n",
      "     ---------------                         7.9/20.1 MB 727.8 kB/s eta 0:00:17\n",
      "     ---------------                         7.9/20.1 MB 727.7 kB/s eta 0:00:17\n",
      "     ---------------                         8.0/20.1 MB 727.4 kB/s eta 0:00:17\n",
      "     ---------------                         8.0/20.1 MB 728.0 kB/s eta 0:00:17\n",
      "     ---------------                         8.0/20.1 MB 726.7 kB/s eta 0:00:17\n",
      "     ---------------                         8.1/20.1 MB 727.4 kB/s eta 0:00:17\n",
      "     ---------------                         8.1/20.1 MB 726.1 kB/s eta 0:00:17\n",
      "     ---------------                         8.1/20.1 MB 726.8 kB/s eta 0:00:17\n",
      "     ---------------                         8.2/20.1 MB 725.4 kB/s eta 0:00:17\n",
      "     ---------------                         8.2/20.1 MB 725.1 kB/s eta 0:00:17\n",
      "     ---------------                         8.2/20.1 MB 725.9 kB/s eta 0:00:17\n",
      "     ----------------                        8.3/20.1 MB 725.5 kB/s eta 0:00:17\n",
      "     ----------------                        8.3/20.1 MB 725.2 kB/s eta 0:00:17\n",
      "     ----------------                        8.3/20.1 MB 724.2 kB/s eta 0:00:17\n",
      "     ----------------                        8.4/20.1 MB 724.6 kB/s eta 0:00:17\n",
      "     ----------------                        8.4/20.1 MB 724.4 kB/s eta 0:00:17\n",
      "     ----------------                        8.4/20.1 MB 724.2 kB/s eta 0:00:17\n",
      "     ----------------                        8.4/20.1 MB 723.9 kB/s eta 0:00:17\n",
      "     ----------------                        8.5/20.1 MB 723.6 kB/s eta 0:00:17\n",
      "     ----------------                        8.5/20.1 MB 724.2 kB/s eta 0:00:16\n",
      "     ----------------                        8.6/20.1 MB 723.9 kB/s eta 0:00:16\n",
      "     ----------------                        8.6/20.1 MB 723.7 kB/s eta 0:00:16\n",
      "     ----------------                        8.6/20.1 MB 724.3 kB/s eta 0:00:16\n",
      "     ----------------                        8.6/20.1 MB 723.2 kB/s eta 0:00:16\n",
      "     ----------------                        8.7/20.1 MB 722.9 kB/s eta 0:00:16\n",
      "     ----------------                        8.7/20.1 MB 723.6 kB/s eta 0:00:16\n",
      "     ----------------                        8.7/20.1 MB 722.3 kB/s eta 0:00:16\n",
      "     -----------------                       8.8/20.1 MB 723.0 kB/s eta 0:00:16\n",
      "     -----------------                       8.8/20.1 MB 722.7 kB/s eta 0:00:16\n",
      "     -----------------                       8.8/20.1 MB 722.4 kB/s eta 0:00:16\n",
      "     -----------------                       8.8/20.1 MB 722.3 kB/s eta 0:00:16\n",
      "     -----------------                       8.9/20.1 MB 722.0 kB/s eta 0:00:16\n",
      "     -----------------                       8.9/20.1 MB 721.7 kB/s eta 0:00:16\n",
      "     -----------------                       8.9/20.1 MB 721.5 kB/s eta 0:00:16\n",
      "     -----------------                       9.0/20.1 MB 721.3 kB/s eta 0:00:16\n",
      "     -----------------                       9.0/20.1 MB 721.0 kB/s eta 0:00:16\n",
      "     -----------------                       9.1/20.1 MB 721.6 kB/s eta 0:00:16\n",
      "     -----------------                       9.1/20.1 MB 721.3 kB/s eta 0:00:16\n",
      "     -----------------                       9.1/20.1 MB 721.1 kB/s eta 0:00:16\n",
      "     -----------------                       9.1/20.1 MB 720.8 kB/s eta 0:00:16\n",
      "     -----------------                       9.2/20.1 MB 720.6 kB/s eta 0:00:16\n",
      "     -----------------                       9.2/20.1 MB 720.4 kB/s eta 0:00:16\n",
      "     -----------------                       9.2/20.1 MB 720.1 kB/s eta 0:00:16\n",
      "     ------------------                      9.3/20.1 MB 720.7 kB/s eta 0:00:16\n",
      "     ------------------                      9.3/20.1 MB 720.4 kB/s eta 0:00:15\n",
      "     ------------------                      9.3/20.1 MB 720.2 kB/s eta 0:00:15\n",
      "     ------------------                      9.4/20.1 MB 720.0 kB/s eta 0:00:15\n",
      "     ------------------                      9.4/20.1 MB 719.7 kB/s eta 0:00:15\n",
      "     ------------------                      9.5/20.1 MB 721.1 kB/s eta 0:00:15\n",
      "     ------------------                      9.5/20.1 MB 720.9 kB/s eta 0:00:15\n",
      "     ------------------                      9.5/20.1 MB 720.6 kB/s eta 0:00:15\n",
      "     ------------------                      9.5/20.1 MB 720.4 kB/s eta 0:00:15\n",
      "     ------------------                      9.6/20.1 MB 720.8 kB/s eta 0:00:15\n",
      "     ------------------                      9.6/20.1 MB 720.8 kB/s eta 0:00:15\n",
      "     ------------------                      9.7/20.1 MB 720.4 kB/s eta 0:00:15\n",
      "     ------------------                      9.7/20.1 MB 721.0 kB/s eta 0:00:15\n",
      "     ------------------                      9.7/20.1 MB 720.8 kB/s eta 0:00:15\n",
      "     ------------------                      9.8/20.1 MB 721.3 kB/s eta 0:00:15\n",
      "     ------------------                      9.8/20.1 MB 720.2 kB/s eta 0:00:15\n",
      "     -------------------                     9.8/20.1 MB 721.7 kB/s eta 0:00:15\n",
      "     -------------------                     9.9/20.1 MB 722.1 kB/s eta 0:00:15\n",
      "     -------------------                     9.9/20.1 MB 721.1 kB/s eta 0:00:15\n",
      "     -------------------                     9.9/20.1 MB 721.6 kB/s eta 0:00:15\n",
      "     ------------------                     10.0/20.1 MB 722.2 kB/s eta 0:00:15\n",
      "     ------------------                     10.0/20.1 MB 721.9 kB/s eta 0:00:14\n",
      "     ------------------                     10.0/20.1 MB 722.5 kB/s eta 0:00:14\n",
      "     -------------------                    10.1/20.1 MB 722.1 kB/s eta 0:00:14\n",
      "     -------------------                    10.1/20.1 MB 722.7 kB/s eta 0:00:14\n",
      "     -------------------                    10.1/20.1 MB 722.5 kB/s eta 0:00:14\n",
      "     -------------------                    10.2/20.1 MB 722.3 kB/s eta 0:00:14\n",
      "     -------------------                    10.2/20.1 MB 722.8 kB/s eta 0:00:14\n",
      "     -------------------                    10.3/20.1 MB 721.8 kB/s eta 0:00:14\n",
      "     -------------------                    10.3/20.1 MB 721.8 kB/s eta 0:00:14\n",
      "     -------------------                    10.3/20.1 MB 725.0 kB/s eta 0:00:14\n",
      "     -------------------                    10.3/20.1 MB 722.6 kB/s eta 0:00:14\n",
      "     -------------------                    10.4/20.1 MB 725.1 kB/s eta 0:00:14\n",
      "     -------------------                    10.4/20.1 MB 722.6 kB/s eta 0:00:14\n",
      "     -------------------                    10.4/20.1 MB 722.6 kB/s eta 0:00:14\n",
      "     -------------------                    10.5/20.1 MB 722.6 kB/s eta 0:00:14\n",
      "     -------------------                    10.5/20.1 MB 720.2 kB/s eta 0:00:14\n",
      "     -------------------                    10.6/20.1 MB 718.7 kB/s eta 0:00:14\n",
      "     --------------------                   10.6/20.1 MB 717.1 kB/s eta 0:00:14\n",
      "     --------------------                   10.6/20.1 MB 715.5 kB/s eta 0:00:14\n",
      "     --------------------                   10.7/20.1 MB 714.0 kB/s eta 0:00:14\n",
      "     --------------------                   10.7/20.1 MB 714.8 kB/s eta 0:00:14\n",
      "     --------------------                   10.7/20.1 MB 723.5 kB/s eta 0:00:13\n",
      "     --------------------                   10.8/20.1 MB 721.0 kB/s eta 0:00:13\n",
      "     --------------------                   10.8/20.1 MB 721.0 kB/s eta 0:00:13\n",
      "     --------------------                   10.8/20.1 MB 718.7 kB/s eta 0:00:13\n",
      "     --------------------                   10.9/20.1 MB 720.3 kB/s eta 0:00:13\n",
      "     --------------------                   10.9/20.1 MB 720.2 kB/s eta 0:00:13\n",
      "     --------------------                   11.0/20.1 MB 737.3 kB/s eta 0:00:13\n",
      "     --------------------                   11.0/20.1 MB 735.6 kB/s eta 0:00:13\n",
      "     --------------------                   11.0/20.1 MB 733.2 kB/s eta 0:00:13\n",
      "     --------------------                   11.1/20.1 MB 729.9 kB/s eta 0:00:13\n",
      "     ---------------------                  11.1/20.1 MB 728.3 kB/s eta 0:00:13\n",
      "     ---------------------                  11.2/20.1 MB 725.1 kB/s eta 0:00:13\n",
      "     ---------------------                  11.2/20.1 MB 723.4 kB/s eta 0:00:13\n",
      "     ---------------------                  11.2/20.1 MB 721.0 kB/s eta 0:00:13\n",
      "     ---------------------                  11.3/20.1 MB 720.3 kB/s eta 0:00:13\n",
      "     ---------------------                  11.3/20.1 MB 721.0 kB/s eta 0:00:13\n",
      "     ---------------------                  11.4/20.1 MB 719.4 kB/s eta 0:00:13\n",
      "     ---------------------                  11.4/20.1 MB 720.3 kB/s eta 0:00:13\n",
      "     ---------------------                  11.4/20.1 MB 720.3 kB/s eta 0:00:13\n",
      "     ---------------------                  11.5/20.1 MB 721.1 kB/s eta 0:00:12\n",
      "     ---------------------                  11.5/20.1 MB 721.8 kB/s eta 0:00:12\n",
      "     ---------------------                  11.6/20.1 MB 732.3 kB/s eta 0:00:12\n",
      "     ---------------------                  11.6/20.1 MB 730.7 kB/s eta 0:00:12\n",
      "     ---------------------                  11.6/20.1 MB 730.7 kB/s eta 0:00:12\n",
      "     ----------------------                 11.7/20.1 MB 729.9 kB/s eta 0:00:12\n",
      "     ----------------------                 11.7/20.1 MB 729.9 kB/s eta 0:00:12\n",
      "     ----------------------                 11.8/20.1 MB 727.4 kB/s eta 0:00:12\n",
      "     ----------------------                 11.8/20.1 MB 725.0 kB/s eta 0:00:12\n",
      "     ----------------------                 11.8/20.1 MB 724.2 kB/s eta 0:00:12\n",
      "     ----------------------                 11.8/20.1 MB 724.2 kB/s eta 0:00:12\n",
      "     ----------------------                 11.9/20.1 MB 724.2 kB/s eta 0:00:12\n",
      "     ----------------------                 11.9/20.1 MB 724.2 kB/s eta 0:00:12\n",
      "     ----------------------                 12.0/20.1 MB 723.4 kB/s eta 0:00:12\n",
      "     ----------------------                 12.0/20.1 MB 725.1 kB/s eta 0:00:12\n",
      "     ----------------------                 12.0/20.1 MB 724.2 kB/s eta 0:00:12\n",
      "     ----------------------                 12.0/20.1 MB 725.1 kB/s eta 0:00:12\n",
      "     ----------------------                 12.1/20.1 MB 725.8 kB/s eta 0:00:12\n",
      "     ----------------------                 12.1/20.1 MB 725.8 kB/s eta 0:00:11\n",
      "     -----------------------                12.2/20.1 MB 727.5 kB/s eta 0:00:11\n",
      "     -----------------------                12.2/20.1 MB 727.5 kB/s eta 0:00:11\n",
      "     -----------------------                12.2/20.1 MB 728.3 kB/s eta 0:00:11\n",
      "     -----------------------                12.3/20.1 MB 726.6 kB/s eta 0:00:11\n",
      "     -----------------------                12.3/20.1 MB 727.5 kB/s eta 0:00:11\n",
      "     -----------------------                12.3/20.1 MB 728.3 kB/s eta 0:00:11\n",
      "     -----------------------                12.4/20.1 MB 726.6 kB/s eta 0:00:11\n",
      "     -----------------------                12.4/20.1 MB 727.4 kB/s eta 0:00:11\n",
      "     -----------------------                12.4/20.1 MB 727.4 kB/s eta 0:00:11\n",
      "     -----------------------                12.5/20.1 MB 726.6 kB/s eta 0:00:11\n",
      "     -----------------------                12.5/20.1 MB 727.4 kB/s eta 0:00:11\n",
      "     -----------------------                12.5/20.1 MB 726.6 kB/s eta 0:00:11\n",
      "     -----------------------                12.6/20.1 MB 726.6 kB/s eta 0:00:11\n",
      "     -----------------------                12.6/20.1 MB 726.6 kB/s eta 0:00:11\n",
      "     -----------------------                12.6/20.1 MB 727.5 kB/s eta 0:00:11\n",
      "     -----------------------                12.7/20.1 MB 726.6 kB/s eta 0:00:11\n",
      "     -----------------------                12.7/20.1 MB 725.8 kB/s eta 0:00:11\n",
      "     ------------------------               12.7/20.1 MB 725.8 kB/s eta 0:00:11\n",
      "     ------------------------               12.8/20.1 MB 725.8 kB/s eta 0:00:11\n",
      "     ------------------------               12.8/20.1 MB 725.8 kB/s eta 0:00:11\n",
      "     ------------------------               12.8/20.1 MB 725.8 kB/s eta 0:00:11\n",
      "     ------------------------               12.8/20.1 MB 725.8 kB/s eta 0:00:11\n",
      "     ------------------------               12.8/20.1 MB 725.8 kB/s eta 0:00:11\n",
      "     ------------------------               12.9/20.1 MB 724.2 kB/s eta 0:00:10\n",
      "     ------------------------               12.9/20.1 MB 724.2 kB/s eta 0:00:10\n",
      "     ------------------------               13.0/20.1 MB 724.2 kB/s eta 0:00:10\n",
      "     ------------------------               13.0/20.1 MB 725.1 kB/s eta 0:00:10\n",
      "     ------------------------               13.0/20.1 MB 724.2 kB/s eta 0:00:10\n",
      "     ------------------------               13.1/20.1 MB 724.2 kB/s eta 0:00:10\n",
      "     ------------------------               13.1/20.1 MB 723.5 kB/s eta 0:00:10\n",
      "     ------------------------               13.1/20.1 MB 723.5 kB/s eta 0:00:10\n",
      "     ------------------------               13.2/20.1 MB 724.2 kB/s eta 0:00:10\n",
      "     -------------------------              13.2/20.1 MB 722.6 kB/s eta 0:00:10\n",
      "     -------------------------              13.3/20.1 MB 723.4 kB/s eta 0:00:10\n",
      "     -------------------------              13.3/20.1 MB 722.6 kB/s eta 0:00:10\n",
      "     -------------------------              13.3/20.1 MB 725.1 kB/s eta 0:00:10\n",
      "     -------------------------              13.4/20.1 MB 725.0 kB/s eta 0:00:10\n",
      "     -------------------------              13.4/20.1 MB 724.2 kB/s eta 0:00:10\n",
      "     -------------------------              13.4/20.1 MB 723.5 kB/s eta 0:00:10\n",
      "     -------------------------              13.5/20.1 MB 722.6 kB/s eta 0:00:10\n",
      "     -------------------------              13.5/20.1 MB 724.2 kB/s eta 0:00:10\n",
      "     -------------------------              13.5/20.1 MB 724.2 kB/s eta 0:00:10\n",
      "     -------------------------              13.6/20.1 MB 723.4 kB/s eta 0:00:10\n",
      "     -------------------------              13.6/20.1 MB 721.8 kB/s eta 0:00:10\n",
      "     -------------------------              13.6/20.1 MB 723.4 kB/s eta 0:00:09\n",
      "     -------------------------              13.7/20.1 MB 722.6 kB/s eta 0:00:09\n",
      "     -------------------------              13.7/20.1 MB 723.4 kB/s eta 0:00:09\n",
      "     -------------------------              13.7/20.1 MB 723.4 kB/s eta 0:00:09\n",
      "     --------------------------             13.8/20.1 MB 723.5 kB/s eta 0:00:09\n",
      "     --------------------------             13.8/20.1 MB 723.5 kB/s eta 0:00:09\n",
      "     --------------------------             13.8/20.1 MB 723.4 kB/s eta 0:00:09\n",
      "     --------------------------             13.9/20.1 MB 722.6 kB/s eta 0:00:09\n",
      "     --------------------------             13.9/20.1 MB 722.6 kB/s eta 0:00:09\n",
      "     --------------------------             13.9/20.1 MB 722.6 kB/s eta 0:00:09\n",
      "     --------------------------             14.0/20.1 MB 722.6 kB/s eta 0:00:09\n",
      "     --------------------------             14.0/20.1 MB 723.5 kB/s eta 0:00:09\n",
      "     --------------------------             14.0/20.1 MB 723.4 kB/s eta 0:00:09\n",
      "     --------------------------             14.1/20.1 MB 723.5 kB/s eta 0:00:09\n",
      "     --------------------------             14.1/20.1 MB 723.5 kB/s eta 0:00:09\n",
      "     --------------------------             14.1/20.1 MB 723.5 kB/s eta 0:00:09\n",
      "     --------------------------             14.2/20.1 MB 723.4 kB/s eta 0:00:09\n",
      "     --------------------------             14.2/20.1 MB 723.4 kB/s eta 0:00:09\n",
      "     --------------------------             14.2/20.1 MB 723.4 kB/s eta 0:00:09\n",
      "     --------------------------             14.3/20.1 MB 722.6 kB/s eta 0:00:09\n",
      "     ---------------------------            14.3/20.1 MB 722.6 kB/s eta 0:00:09\n",
      "     ---------------------------            14.3/20.1 MB 722.6 kB/s eta 0:00:08\n",
      "     ---------------------------            14.4/20.1 MB 723.4 kB/s eta 0:00:08\n",
      "     ---------------------------            14.4/20.1 MB 724.2 kB/s eta 0:00:08\n",
      "     ---------------------------            14.4/20.1 MB 724.2 kB/s eta 0:00:08\n",
      "     ---------------------------            14.5/20.1 MB 724.2 kB/s eta 0:00:08\n",
      "     ---------------------------            14.5/20.1 MB 721.8 kB/s eta 0:00:08\n",
      "     ---------------------------            14.5/20.1 MB 721.8 kB/s eta 0:00:08\n",
      "     ---------------------------            14.6/20.1 MB 722.6 kB/s eta 0:00:08\n",
      "     ---------------------------            14.6/20.1 MB 723.4 kB/s eta 0:00:08\n",
      "     ---------------------------            14.6/20.1 MB 722.6 kB/s eta 0:00:08\n",
      "     ---------------------------            14.7/20.1 MB 722.6 kB/s eta 0:00:08\n",
      "     ---------------------------            14.7/20.1 MB 724.2 kB/s eta 0:00:08\n",
      "     ---------------------------            14.7/20.1 MB 724.2 kB/s eta 0:00:08\n",
      "     ---------------------------            14.8/20.1 MB 723.4 kB/s eta 0:00:08\n",
      "     ---------------------------            14.8/20.1 MB 722.6 kB/s eta 0:00:08\n",
      "     ----------------------------           14.8/20.1 MB 723.4 kB/s eta 0:00:08\n",
      "     ----------------------------           14.9/20.1 MB 723.4 kB/s eta 0:00:08\n",
      "     ----------------------------           14.9/20.1 MB 723.4 kB/s eta 0:00:08\n",
      "     ----------------------------           14.9/20.1 MB 723.4 kB/s eta 0:00:08\n",
      "     ----------------------------           15.0/20.1 MB 722.6 kB/s eta 0:00:08\n",
      "     ----------------------------           15.0/20.1 MB 723.4 kB/s eta 0:00:08\n",
      "     ----------------------------           15.0/20.1 MB 723.4 kB/s eta 0:00:08\n",
      "     ----------------------------           15.1/20.1 MB 722.6 kB/s eta 0:00:07\n",
      "     ----------------------------           15.1/20.1 MB 723.5 kB/s eta 0:00:07\n",
      "     ----------------------------           15.1/20.1 MB 723.5 kB/s eta 0:00:07\n",
      "     ----------------------------           15.1/20.1 MB 723.5 kB/s eta 0:00:07\n",
      "     ----------------------------           15.1/20.1 MB 723.5 kB/s eta 0:00:07\n",
      "     ----------------------------           15.2/20.1 MB 723.5 kB/s eta 0:00:07\n",
      "     ----------------------------           15.3/20.1 MB 723.5 kB/s eta 0:00:07\n",
      "     ----------------------------           15.3/20.1 MB 722.6 kB/s eta 0:00:07\n",
      "     -----------------------------          15.3/20.1 MB 722.6 kB/s eta 0:00:07\n",
      "     -----------------------------          15.4/20.1 MB 723.4 kB/s eta 0:00:07\n",
      "     -----------------------------          15.4/20.1 MB 723.4 kB/s eta 0:00:07\n",
      "     -----------------------------          15.4/20.1 MB 724.2 kB/s eta 0:00:07\n",
      "     -----------------------------          15.5/20.1 MB 722.6 kB/s eta 0:00:07\n",
      "     -----------------------------          15.5/20.1 MB 722.6 kB/s eta 0:00:07\n",
      "     -----------------------------          15.5/20.1 MB 723.4 kB/s eta 0:00:07\n",
      "     -----------------------------          15.6/20.1 MB 723.4 kB/s eta 0:00:07\n",
      "     -----------------------------          15.6/20.1 MB 723.5 kB/s eta 0:00:07\n",
      "     -----------------------------          15.6/20.1 MB 723.5 kB/s eta 0:00:07\n",
      "     -----------------------------          15.7/20.1 MB 723.4 kB/s eta 0:00:07\n",
      "     -----------------------------          15.7/20.1 MB 723.4 kB/s eta 0:00:07\n",
      "     -----------------------------          15.7/20.1 MB 723.4 kB/s eta 0:00:07\n",
      "     -----------------------------          15.8/20.1 MB 722.6 kB/s eta 0:00:06\n",
      "     -----------------------------          15.8/20.1 MB 723.5 kB/s eta 0:00:06\n",
      "     -----------------------------          15.9/20.1 MB 723.5 kB/s eta 0:00:06\n",
      "     ------------------------------         15.9/20.1 MB 724.2 kB/s eta 0:00:06\n",
      "     ------------------------------         15.9/20.1 MB 723.4 kB/s eta 0:00:06\n",
      "     ------------------------------         16.0/20.1 MB 723.5 kB/s eta 0:00:06\n",
      "     ------------------------------         16.0/20.1 MB 723.4 kB/s eta 0:00:06\n",
      "     ------------------------------         16.0/20.1 MB 723.4 kB/s eta 0:00:06\n",
      "     ------------------------------         16.1/20.1 MB 724.2 kB/s eta 0:00:06\n",
      "     ------------------------------         16.1/20.1 MB 723.5 kB/s eta 0:00:06\n",
      "     ------------------------------         16.1/20.1 MB 723.5 kB/s eta 0:00:06\n",
      "     ------------------------------         16.2/20.1 MB 723.4 kB/s eta 0:00:06\n",
      "     ------------------------------         16.2/20.1 MB 723.4 kB/s eta 0:00:06\n",
      "     ------------------------------         16.2/20.1 MB 723.4 kB/s eta 0:00:06\n",
      "     ------------------------------         16.3/20.1 MB 723.4 kB/s eta 0:00:06\n",
      "     ------------------------------         16.3/20.1 MB 723.4 kB/s eta 0:00:06\n",
      "     ------------------------------         16.3/20.1 MB 723.4 kB/s eta 0:00:06\n",
      "     ------------------------------         16.4/20.1 MB 724.2 kB/s eta 0:00:06\n",
      "     ------------------------------         16.4/20.1 MB 723.4 kB/s eta 0:00:06\n",
      "     -------------------------------        16.4/20.1 MB 723.5 kB/s eta 0:00:06\n",
      "     -------------------------------        16.5/20.1 MB 723.5 kB/s eta 0:00:06\n",
      "     -------------------------------        16.5/20.1 MB 724.2 kB/s eta 0:00:05\n",
      "     -------------------------------        16.5/20.1 MB 724.2 kB/s eta 0:00:05\n",
      "     -------------------------------        16.6/20.1 MB 724.2 kB/s eta 0:00:05\n",
      "     -------------------------------        16.6/20.1 MB 723.4 kB/s eta 0:00:05\n",
      "     -------------------------------        16.6/20.1 MB 723.5 kB/s eta 0:00:05\n",
      "     -------------------------------        16.7/20.1 MB 723.5 kB/s eta 0:00:05\n",
      "     -------------------------------        16.7/20.1 MB 723.4 kB/s eta 0:00:05\n",
      "     -------------------------------        16.7/20.1 MB 723.4 kB/s eta 0:00:05\n",
      "     -------------------------------        16.8/20.1 MB 724.2 kB/s eta 0:00:05\n",
      "     -------------------------------        16.8/20.1 MB 724.2 kB/s eta 0:00:05\n",
      "     -------------------------------        16.8/20.1 MB 723.4 kB/s eta 0:00:05\n",
      "     -------------------------------        16.9/20.1 MB 723.4 kB/s eta 0:00:05\n",
      "     -------------------------------        16.9/20.1 MB 723.4 kB/s eta 0:00:05\n",
      "     --------------------------------       16.9/20.1 MB 723.4 kB/s eta 0:00:05\n",
      "     --------------------------------       17.0/20.1 MB 723.5 kB/s eta 0:00:05\n",
      "     --------------------------------       17.0/20.1 MB 723.5 kB/s eta 0:00:05\n",
      "     --------------------------------       17.0/20.1 MB 722.6 kB/s eta 0:00:05\n",
      "     --------------------------------       17.1/20.1 MB 724.2 kB/s eta 0:00:05\n",
      "     --------------------------------       17.1/20.1 MB 724.2 kB/s eta 0:00:05\n",
      "     --------------------------------       17.2/20.1 MB 724.2 kB/s eta 0:00:05\n",
      "     --------------------------------       17.2/20.1 MB 724.2 kB/s eta 0:00:05\n",
      "     --------------------------------       17.2/20.1 MB 724.2 kB/s eta 0:00:05\n",
      "     --------------------------------       17.2/20.1 MB 724.2 kB/s eta 0:00:05\n",
      "     --------------------------------       17.2/20.1 MB 724.2 kB/s eta 0:00:05\n",
      "     --------------------------------       17.3/20.1 MB 729.0 kB/s eta 0:00:04\n",
      "     --------------------------------       17.3/20.1 MB 725.8 kB/s eta 0:00:04\n",
      "     --------------------------------       17.4/20.1 MB 729.1 kB/s eta 0:00:04\n",
      "     --------------------------------       17.4/20.1 MB 728.3 kB/s eta 0:00:04\n",
      "     --------------------------------       17.4/20.1 MB 725.8 kB/s eta 0:00:04\n",
      "     ---------------------------------      17.5/20.1 MB 723.4 kB/s eta 0:00:04\n",
      "     ---------------------------------      17.5/20.1 MB 723.5 kB/s eta 0:00:04\n",
      "     ---------------------------------      17.5/20.1 MB 722.6 kB/s eta 0:00:04\n",
      "     ---------------------------------      17.6/20.1 MB 723.5 kB/s eta 0:00:04\n",
      "     ---------------------------------      17.6/20.1 MB 724.2 kB/s eta 0:00:04\n",
      "     ---------------------------------      17.6/20.1 MB 725.9 kB/s eta 0:00:04\n",
      "     ---------------------------------      17.7/20.1 MB 727.4 kB/s eta 0:00:04\n",
      "     ---------------------------------      17.7/20.1 MB 727.4 kB/s eta 0:00:04\n",
      "     ---------------------------------      17.8/20.1 MB 728.3 kB/s eta 0:00:04\n",
      "     ---------------------------------      17.8/20.1 MB 728.3 kB/s eta 0:00:04\n",
      "     ---------------------------------      17.8/20.1 MB 727.5 kB/s eta 0:00:04\n",
      "     ---------------------------------      17.9/20.1 MB 729.9 kB/s eta 0:00:04\n",
      "     ---------------------------------      17.9/20.1 MB 729.9 kB/s eta 0:00:04\n",
      "     ---------------------------------      17.9/20.1 MB 729.9 kB/s eta 0:00:03\n",
      "     ---------------------------------      18.0/20.1 MB 730.7 kB/s eta 0:00:03\n",
      "     ----------------------------------     18.0/20.1 MB 730.7 kB/s eta 0:00:03\n",
      "     ----------------------------------     18.0/20.1 MB 730.7 kB/s eta 0:00:03\n",
      "     ----------------------------------     18.1/20.1 MB 730.7 kB/s eta 0:00:03\n",
      "     ----------------------------------     18.1/20.1 MB 732.4 kB/s eta 0:00:03\n",
      "     ----------------------------------     18.1/20.1 MB 732.3 kB/s eta 0:00:03\n",
      "     ----------------------------------     18.2/20.1 MB 733.2 kB/s eta 0:00:03\n",
      "     ----------------------------------     18.2/20.1 MB 732.3 kB/s eta 0:00:03\n",
      "     ----------------------------------     18.2/20.1 MB 733.2 kB/s eta 0:00:03\n",
      "     ----------------------------------     18.3/20.1 MB 733.2 kB/s eta 0:00:03\n",
      "     ----------------------------------     18.3/20.1 MB 733.2 kB/s eta 0:00:03\n",
      "     ----------------------------------     18.3/20.1 MB 733.9 kB/s eta 0:00:03\n",
      "     ----------------------------------     18.4/20.1 MB 733.2 kB/s eta 0:00:03\n",
      "     ----------------------------------     18.4/20.1 MB 734.0 kB/s eta 0:00:03\n",
      "     ----------------------------------     18.4/20.1 MB 734.0 kB/s eta 0:00:03\n",
      "     ----------------------------------     18.5/20.1 MB 736.5 kB/s eta 0:00:03\n",
      "     ----------------------------------     18.5/20.1 MB 734.8 kB/s eta 0:00:03\n",
      "     -----------------------------------    18.5/20.1 MB 734.8 kB/s eta 0:00:03\n",
      "     -----------------------------------    18.6/20.1 MB 735.6 kB/s eta 0:00:03\n",
      "     -----------------------------------    18.6/20.1 MB 734.8 kB/s eta 0:00:03\n",
      "     -----------------------------------    18.6/20.1 MB 736.4 kB/s eta 0:00:02\n",
      "     -----------------------------------    18.7/20.1 MB 735.6 kB/s eta 0:00:02\n",
      "     -----------------------------------    18.7/20.1 MB 735.6 kB/s eta 0:00:02\n",
      "     -----------------------------------    18.7/20.1 MB 736.4 kB/s eta 0:00:02\n",
      "     -----------------------------------    18.8/20.1 MB 736.5 kB/s eta 0:00:02\n",
      "     -----------------------------------    18.8/20.1 MB 736.4 kB/s eta 0:00:02\n",
      "     -----------------------------------    18.8/20.1 MB 735.6 kB/s eta 0:00:02\n",
      "     -----------------------------------    18.9/20.1 MB 736.4 kB/s eta 0:00:02\n",
      "     -----------------------------------    18.9/20.1 MB 736.4 kB/s eta 0:00:02\n",
      "     -----------------------------------    18.9/20.1 MB 736.4 kB/s eta 0:00:02\n",
      "     -----------------------------------    19.0/20.1 MB 737.3 kB/s eta 0:00:02\n",
      "     -----------------------------------    19.0/20.1 MB 737.3 kB/s eta 0:00:02\n",
      "     ------------------------------------   19.0/20.1 MB 738.1 kB/s eta 0:00:02\n",
      "     ------------------------------------   19.1/20.1 MB 737.3 kB/s eta 0:00:02\n",
      "     ------------------------------------   19.1/20.1 MB 738.1 kB/s eta 0:00:02\n",
      "     ------------------------------------   19.1/20.1 MB 738.1 kB/s eta 0:00:02\n",
      "     ------------------------------------   19.2/20.1 MB 738.1 kB/s eta 0:00:02\n",
      "     ------------------------------------   19.2/20.1 MB 738.1 kB/s eta 0:00:02\n",
      "     ------------------------------------   19.2/20.1 MB 738.1 kB/s eta 0:00:02\n",
      "     ------------------------------------   19.3/20.1 MB 738.9 kB/s eta 0:00:02\n",
      "     ------------------------------------   19.3/20.1 MB 738.1 kB/s eta 0:00:02\n",
      "     ------------------------------------   19.3/20.1 MB 738.1 kB/s eta 0:00:02\n",
      "     ------------------------------------   19.4/20.1 MB 738.1 kB/s eta 0:00:01\n",
      "     ------------------------------------   19.4/20.1 MB 739.8 kB/s eta 0:00:01\n",
      "     ------------------------------------   19.5/20.1 MB 739.0 kB/s eta 0:00:01\n",
      "     ------------------------------------   19.5/20.1 MB 738.1 kB/s eta 0:00:01\n",
      "     ------------------------------------   19.5/20.1 MB 740.6 kB/s eta 0:00:01\n",
      "     ------------------------------------   19.6/20.1 MB 740.6 kB/s eta 0:00:01\n",
      "     -------------------------------------  19.6/20.1 MB 738.9 kB/s eta 0:00:01\n",
      "     -------------------------------------  19.6/20.1 MB 739.8 kB/s eta 0:00:01\n",
      "     -------------------------------------  19.7/20.1 MB 738.9 kB/s eta 0:00:01\n",
      "     -------------------------------------  19.7/20.1 MB 739.8 kB/s eta 0:00:01\n",
      "     -------------------------------------  19.7/20.1 MB 739.8 kB/s eta 0:00:01\n",
      "     -------------------------------------  19.8/20.1 MB 738.9 kB/s eta 0:00:01\n",
      "     -------------------------------------  19.8/20.1 MB 739.8 kB/s eta 0:00:01\n",
      "     -------------------------------------  19.8/20.1 MB 739.8 kB/s eta 0:00:01\n",
      "     -------------------------------------  19.9/20.1 MB 739.7 kB/s eta 0:00:01\n",
      "     -------------------------------------  19.9/20.1 MB 738.9 kB/s eta 0:00:01\n",
      "     -------------------------------------  19.9/20.1 MB 738.1 kB/s eta 0:00:01\n",
      "     -------------------------------------  19.9/20.1 MB 739.8 kB/s eta 0:00:01\n",
      "     -------------------------------------  20.0/20.1 MB 739.8 kB/s eta 0:00:01\n",
      "     -------------------------------------  20.0/20.1 MB 739.7 kB/s eta 0:00:01\n",
      "     -------------------------------------  20.1/20.1 MB 739.0 kB/s eta 0:00:01\n",
      "     -------------------------------------  20.1/20.1 MB 738.1 kB/s eta 0:00:01\n",
      "     -------------------------------------  20.1/20.1 MB 738.1 kB/s eta 0:00:01\n",
      "     -------------------------------------- 20.1/20.1 MB 733.7 kB/s eta 0:00:00\n",
      "Collecting aiofiles<24.0,>=22.0 (from gradio)\n",
      "  Using cached aiofiles-23.2.1-py3-none-any.whl (15 kB)\n",
      "Collecting altair<6.0,>=4.2.0 (from gradio)\n",
      "  Using cached altair-5.1.1-py3-none-any.whl (520 kB)\n",
      "Collecting fastapi (from gradio)\n",
      "  Downloading fastapi-0.103.1-py3-none-any.whl (66 kB)\n",
      "                                              0.0/66.2 kB ? eta -:--:--\n",
      "     ------------------                       30.7/66.2 kB 1.3 MB/s eta 0:00:01\n",
      "     -------------------------------------    61.4/66.2 kB 1.1 MB/s eta 0:00:01\n",
      "     -------------------------------------- 66.2/66.2 kB 888.9 kB/s eta 0:00:00\n",
      "Collecting ffmpy (from gradio)\n",
      "  Using cached ffmpy-0.3.1-py3-none-any.whl\n",
      "Collecting gradio-client==0.5.0 (from gradio)\n",
      "  Using cached gradio_client-0.5.0-py3-none-any.whl (298 kB)\n",
      "Collecting httpx (from gradio)\n",
      "  Using cached httpx-0.24.1-py3-none-any.whl (75 kB)\n",
      "Collecting huggingface-hub>=0.14.0 (from gradio)\n",
      "  Using cached huggingface_hub-0.16.4-py3-none-any.whl (268 kB)\n",
      "Collecting importlib-resources<7.0,>=1.3 (from gradio)\n",
      "  Using cached importlib_resources-6.0.1-py3-none-any.whl (34 kB)\n",
      "Collecting jinja2<4.0 (from gradio)\n",
      "  Using cached Jinja2-3.1.2-py3-none-any.whl (133 kB)\n",
      "Requirement already satisfied: markupsafe~=2.0 in c:\\dev\\spam sms detection\\spamsmsdetection\\lib\\site-packages (from gradio) (2.1.3)\n",
      "Requirement already satisfied: matplotlib~=3.0 in c:\\dev\\spam sms detection\\spamsmsdetection\\lib\\site-packages (from gradio) (3.7.2)\n",
      "Requirement already satisfied: numpy~=1.0 in c:\\dev\\spam sms detection\\spamsmsdetection\\lib\\site-packages (from gradio) (1.24.3)\n",
      "Collecting orjson~=3.0 (from gradio)\n",
      "  Using cached orjson-3.9.5-cp311-none-win_amd64.whl (139 kB)\n",
      "Requirement already satisfied: packaging in c:\\dev\\spam sms detection\\spamsmsdetection\\lib\\site-packages (from gradio) (23.1)\n",
      "Requirement already satisfied: pandas<3.0,>=1.0 in c:\\dev\\spam sms detection\\spamsmsdetection\\lib\\site-packages (from gradio) (2.1.0)\n",
      "Requirement already satisfied: pillow<11.0,>=8.0 in c:\\dev\\spam sms detection\\spamsmsdetection\\lib\\site-packages (from gradio) (9.5.0)\n",
      "Collecting pydantic!=1.8,!=1.8.1,!=2.0.0,!=2.0.1,<3.0.0,>=1.7.4 (from gradio)\n",
      "  Using cached pydantic-2.3.0-py3-none-any.whl (374 kB)\n",
      "Collecting pydub (from gradio)\n",
      "  Using cached pydub-0.25.1-py2.py3-none-any.whl (32 kB)\n",
      "Collecting python-multipart (from gradio)\n",
      "  Using cached python_multipart-0.0.6-py3-none-any.whl (45 kB)\n",
      "Collecting pyyaml<7.0,>=5.0 (from gradio)\n",
      "  Using cached PyYAML-6.0.1-cp311-cp311-win_amd64.whl (144 kB)\n",
      "Requirement already satisfied: requests~=2.0 in c:\\dev\\spam sms detection\\spamsmsdetection\\lib\\site-packages (from gradio) (2.31.0)\n",
      "Collecting semantic-version~=2.0 (from gradio)\n",
      "  Using cached semantic_version-2.10.0-py2.py3-none-any.whl (15 kB)\n",
      "Requirement already satisfied: typing-extensions~=4.0 in c:\\dev\\spam sms detection\\spamsmsdetection\\lib\\site-packages (from gradio) (4.5.0)\n",
      "Collecting uvicorn>=0.14.0 (from gradio)\n",
      "  Using cached uvicorn-0.23.2-py3-none-any.whl (59 kB)\n",
      "Collecting websockets<12.0,>=10.0 (from gradio)\n",
      "  Using cached websockets-11.0.3-cp311-cp311-win_amd64.whl (124 kB)\n",
      "Collecting fsspec (from gradio-client==0.5.0->gradio)\n",
      "  Downloading fsspec-2023.9.0-py3-none-any.whl (173 kB)\n",
      "                                              0.0/173.2 kB ? eta -:--:--\n",
      "     --------                              41.0/173.2 kB 991.0 kB/s eta 0:00:01\n",
      "     --------------------                    92.2/173.2 kB 1.3 MB/s eta 0:00:01\n",
      "     -------------------------            122.9/173.2 kB 901.1 kB/s eta 0:00:01\n",
      "     ----------------------------------   163.8/173.2 kB 893.0 kB/s eta 0:00:01\n",
      "     ------------------------------------ 173.2/173.2 kB 866.7 kB/s eta 0:00:00\n",
      "Collecting jsonschema>=3.0 (from altair<6.0,>=4.2.0->gradio)\n",
      "  Using cached jsonschema-4.19.0-py3-none-any.whl (83 kB)\n",
      "Requirement already satisfied: toolz in c:\\dev\\spam sms detection\\spamsmsdetection\\lib\\site-packages (from altair<6.0,>=4.2.0->gradio) (0.12.0)\n",
      "Collecting filelock (from huggingface-hub>=0.14.0->gradio)\n",
      "  Using cached filelock-3.12.3-py3-none-any.whl (11 kB)\n",
      "Requirement already satisfied: tqdm>=4.42.1 in c:\\dev\\spam sms detection\\spamsmsdetection\\lib\\site-packages (from huggingface-hub>=0.14.0->gradio) (4.66.1)\n",
      "Requirement already satisfied: contourpy>=1.0.1 in c:\\dev\\spam sms detection\\spamsmsdetection\\lib\\site-packages (from matplotlib~=3.0->gradio) (1.1.0)\n",
      "Requirement already satisfied: cycler>=0.10 in c:\\dev\\spam sms detection\\spamsmsdetection\\lib\\site-packages (from matplotlib~=3.0->gradio) (0.11.0)\n",
      "Requirement already satisfied: fonttools>=4.22.0 in c:\\dev\\spam sms detection\\spamsmsdetection\\lib\\site-packages (from matplotlib~=3.0->gradio) (4.42.1)\n",
      "Requirement already satisfied: kiwisolver>=1.0.1 in c:\\dev\\spam sms detection\\spamsmsdetection\\lib\\site-packages (from matplotlib~=3.0->gradio) (1.4.5)\n",
      "Requirement already satisfied: pyparsing<3.1,>=2.3.1 in c:\\dev\\spam sms detection\\spamsmsdetection\\lib\\site-packages (from matplotlib~=3.0->gradio) (3.0.9)\n",
      "Requirement already satisfied: python-dateutil>=2.7 in c:\\dev\\spam sms detection\\spamsmsdetection\\lib\\site-packages (from matplotlib~=3.0->gradio) (2.8.2)\n",
      "Requirement already satisfied: pytz>=2020.1 in c:\\dev\\spam sms detection\\spamsmsdetection\\lib\\site-packages (from pandas<3.0,>=1.0->gradio) (2023.3)\n",
      "Requirement already satisfied: tzdata>=2022.1 in c:\\dev\\spam sms detection\\spamsmsdetection\\lib\\site-packages (from pandas<3.0,>=1.0->gradio) (2023.3)\n",
      "Collecting annotated-types>=0.4.0 (from pydantic!=1.8,!=1.8.1,!=2.0.0,!=2.0.1,<3.0.0,>=1.7.4->gradio)\n",
      "  Using cached annotated_types-0.5.0-py3-none-any.whl (11 kB)\n",
      "Collecting pydantic-core==2.6.3 (from pydantic!=1.8,!=1.8.1,!=2.0.0,!=2.0.1,<3.0.0,>=1.7.4->gradio)\n",
      "  Using cached pydantic_core-2.6.3-cp311-none-win_amd64.whl (1.7 MB)\n",
      "Collecting typing-extensions~=4.0 (from gradio)\n",
      "  Using cached typing_extensions-4.7.1-py3-none-any.whl (33 kB)\n",
      "Requirement already satisfied: charset-normalizer<4,>=2 in c:\\dev\\spam sms detection\\spamsmsdetection\\lib\\site-packages (from requests~=2.0->gradio) (3.2.0)\n",
      "Requirement already satisfied: idna<4,>=2.5 in c:\\dev\\spam sms detection\\spamsmsdetection\\lib\\site-packages (from requests~=2.0->gradio) (3.4)\n",
      "Requirement already satisfied: urllib3<3,>=1.21.1 in c:\\dev\\spam sms detection\\spamsmsdetection\\lib\\site-packages (from requests~=2.0->gradio) (1.26.16)\n",
      "Requirement already satisfied: certifi>=2017.4.17 in c:\\dev\\spam sms detection\\spamsmsdetection\\lib\\site-packages (from requests~=2.0->gradio) (2023.7.22)\n",
      "Requirement already satisfied: click>=7.0 in c:\\dev\\spam sms detection\\spamsmsdetection\\lib\\site-packages (from uvicorn>=0.14.0->gradio) (8.1.7)\n",
      "Collecting h11>=0.8 (from uvicorn>=0.14.0->gradio)\n",
      "  Using cached h11-0.14.0-py3-none-any.whl (58 kB)\n",
      "Collecting anyio<4.0.0,>=3.7.1 (from fastapi->gradio)\n",
      "  Using cached anyio-3.7.1-py3-none-any.whl (80 kB)\n",
      "Collecting starlette<0.28.0,>=0.27.0 (from fastapi->gradio)\n",
      "  Using cached starlette-0.27.0-py3-none-any.whl (66 kB)\n",
      "Collecting httpcore<0.18.0,>=0.15.0 (from httpx->gradio)\n",
      "  Using cached httpcore-0.17.3-py3-none-any.whl (74 kB)\n",
      "Collecting sniffio (from httpx->gradio)\n",
      "  Using cached sniffio-1.3.0-py3-none-any.whl (10 kB)\n",
      "Requirement already satisfied: colorama in c:\\dev\\spam sms detection\\spamsmsdetection\\lib\\site-packages (from click>=7.0->uvicorn>=0.14.0->gradio) (0.4.6)\n",
      "Collecting attrs>=22.2.0 (from jsonschema>=3.0->altair<6.0,>=4.2.0->gradio)\n",
      "  Using cached attrs-23.1.0-py3-none-any.whl (61 kB)\n",
      "Collecting jsonschema-specifications>=2023.03.6 (from jsonschema>=3.0->altair<6.0,>=4.2.0->gradio)\n",
      "  Using cached jsonschema_specifications-2023.7.1-py3-none-any.whl (17 kB)\n",
      "Collecting referencing>=0.28.4 (from jsonschema>=3.0->altair<6.0,>=4.2.0->gradio)\n",
      "  Using cached referencing-0.30.2-py3-none-any.whl (25 kB)\n",
      "Requirement already satisfied: rpds-py>=0.7.1 in c:\\dev\\spam sms detection\\spamsmsdetection\\lib\\site-packages (from jsonschema>=3.0->altair<6.0,>=4.2.0->gradio) (0.10.0)\n",
      "Requirement already satisfied: six>=1.5 in c:\\dev\\spam sms detection\\spamsmsdetection\\lib\\site-packages (from python-dateutil>=2.7->matplotlib~=3.0->gradio) (1.16.0)\n",
      "Installing collected packages: pydub, ffmpy, websockets, typing-extensions, sniffio, semantic-version, pyyaml, python-multipart, orjson, jinja2, importlib-resources, h11, fsspec, filelock, attrs, annotated-types, aiofiles, uvicorn, referencing, pydantic-core, huggingface-hub, anyio, starlette, pydantic, jsonschema-specifications, httpcore, jsonschema, httpx, fastapi, gradio-client, altair, gradio\n",
      "  Attempting uninstall: typing-extensions\n",
      "    Found existing installation: typing_extensions 4.5.0\n",
      "    Uninstalling typing_extensions-4.5.0:\n",
      "      Successfully uninstalled typing_extensions-4.5.0\n",
      "Successfully installed aiofiles-23.2.1 altair-5.1.1 annotated-types-0.5.0 anyio-3.7.1 attrs-23.1.0 fastapi-0.103.1 ffmpy-0.3.1 filelock-3.12.3 fsspec-2023.9.0 gradio-3.42.0 gradio-client-0.5.0 h11-0.14.0 httpcore-0.17.3 httpx-0.24.1 huggingface-hub-0.16.4 importlib-resources-6.0.1 jinja2-3.1.2 jsonschema-4.19.0 jsonschema-specifications-2023.7.1 orjson-3.9.5 pydantic-2.3.0 pydantic-core-2.6.3 pydub-0.25.1 python-multipart-0.0.6 pyyaml-6.0.1 referencing-0.30.2 semantic-version-2.10.0 sniffio-1.3.0 starlette-0.27.0 typing-extensions-4.7.1 uvicorn-0.23.2 websockets-11.0.3\n"
     ]
    },
    {
     "name": "stderr",
     "output_type": "stream",
     "text": [
      "ERROR: pip's dependency resolver does not currently take into account all the packages that are installed. This behaviour is the source of the following dependency conflicts.\n",
      "tensorflow-intel 2.13.0 requires typing-extensions<4.6.0,>=3.6.6, but you have typing-extensions 4.7.1 which is incompatible.\n",
      "\n",
      "[notice] A new release of pip is available: 23.1.2 -> 23.2.1\n",
      "[notice] To update, run: python.exe -m pip install --upgrade pip\n"
     ]
    }
   ],
   "source": [
    "!pip install gradio"
   ]
  },
  {
   "cell_type": "code",
   "execution_count": 66,
   "id": "1850fe31-b3b6-4811-9c72-4540036b3417",
   "metadata": {
    "tags": []
   },
   "outputs": [
    {
     "name": "stdout",
     "output_type": "stream",
     "text": [
      "Overwriting app.py\n"
     ]
    }
   ],
   "source": [
    "%%writefile app.py\n",
    "import gradio as gr\n",
    "import pickle\n",
    "import string\n",
    "from nltk.corpus import stopwords\n",
    "import nltk\n",
    "from nltk.stem.porter import PorterStemmer\n",
    "\n",
    "def main():\n",
    "    tfidf = pickle.load(open('vectorizer.pkl', 'rb'))\n",
    "    model = pickle.load(open('Spam-SMS-Detector.pkl', 'rb'))\n",
    "\n",
    "    ps = PorterStemmer()\n",
    "\n",
    "    def transform_text(text):\n",
    "        text = text.lower()\n",
    "        text = nltk.word_tokenize(text)\n",
    "        y = []\n",
    "        for i in text:\n",
    "            if i.isalnum():\n",
    "                y.append(i)\n",
    "\n",
    "        text = y[:]\n",
    "        y.clear()\n",
    "\n",
    "        for i in text:\n",
    "            if i not in stopwords.words('english') and i not in string.punctuation:\n",
    "                y.append(i)\n",
    "\n",
    "        text = y[:]\n",
    "        y.clear()\n",
    "\n",
    "        for i in text:\n",
    "            y.append(ps.stem(i))\n",
    "\n",
    "\n",
    "        return \" \".join(y)\n",
    "\n",
    "def predict_sms(input_text):\n",
    "    transformed_input = transform_text(input_text)\n",
    "    vectorizedd = tfidf.transform([transformed_input])\n",
    "    result = model.predict(vectorizedd)[0]\n",
    "    return \"Spam\" if result == 1 else \"Genuine\"\n",
    "\n",
    "iface = gr.Interface(\n",
    "    fn=predict_sms,\n",
    "    inputs=gr.Textbox(label=\"Enter the SMS\", placeholder=\"Type your SMS here...\"),\n",
    "    outputs=gr.Label(label=\"Result\"),\n",
    "    live=True\n",
    ")\n",
    "\n",
    "iface.launch()\n",
    "    \n",
    "\n",
    "#    if st.button('Detect'):\n",
    "#        transformed_input = transform_text(input_text)\n",
    "#        vectorizedd = tfidf.transform([transformed_input])\n",
    "#        result = model.predict(vectorizedd)[0]\n",
    "\n",
    "#        if result==1:\n",
    "#            st.header(\"Spam\")\n",
    "#        else:\n",
    "#            st.header(\"Genuine\")\n",
    "            \n",
    "if __name__ == '__main__':\n",
    "    main()"
   ]
  },
  {
   "cell_type": "code",
   "execution_count": 1,
   "id": "2f58142f-284a-41bb-b0dc-3b28b559aecc",
   "metadata": {
    "tags": []
   },
   "outputs": [
    {
     "name": "stdout",
     "output_type": "stream",
     "text": [
      "Running on local URL:  http://127.0.0.1:7860\n",
      "Running on public URL: https://bfefee39da5ae4cf4d.gradio.live\n",
      "\n",
      "This share link expires in 72 hours. For free permanent hosting and GPU upgrades, run `gradio deploy` from Terminal to deploy to Spaces (https://huggingface.co/spaces)\n"
     ]
    },
    {
     "data": {
      "text/html": [
       "<div><iframe src=\"https://bfefee39da5ae4cf4d.gradio.live\" width=\"100%\" height=\"500\" allow=\"autoplay; camera; microphone; clipboard-read; clipboard-write;\" frameborder=\"0\" allowfullscreen></iframe></div>"
      ],
      "text/plain": [
       "<IPython.core.display.HTML object>"
      ]
     },
     "metadata": {},
     "output_type": "display_data"
    },
    {
     "data": {
      "text/plain": []
     },
     "execution_count": 1,
     "metadata": {},
     "output_type": "execute_result"
    }
   ],
   "source": [
    "import gradio as gr\n",
    "import pickle\n",
    "import string\n",
    "from nltk.corpus import stopwords\n",
    "import nltk\n",
    "from nltk.stem.porter import PorterStemmer\n",
    "\n",
    "\n",
    "tfidf = pickle.load(open('vectorizer.pkl', 'rb'))\n",
    "model = pickle.load(open('Spam-SMS-Detector.pkl', 'rb'))\n",
    "\n",
    "ps = PorterStemmer()\n",
    "\n",
    "def transform_text(text):\n",
    "    text = text.lower()\n",
    "    text = nltk.word_tokenize(text)\n",
    "    y = []\n",
    "    for i in text:\n",
    "        if i.isalnum():\n",
    "            y.append(i)\n",
    "\n",
    "    text = y[:]\n",
    "    y.clear()\n",
    "\n",
    "    for i in text:\n",
    "        if i not in stopwords.words('english') and i not in string.punctuation:\n",
    "            y.append(i)\n",
    "\n",
    "    text = y[:]\n",
    "    y.clear()\n",
    "\n",
    "    for i in text:\n",
    "        y.append(ps.stem(i))\n",
    "\n",
    "\n",
    "    return \" \".join(y)\n",
    "\n",
    "def predict_sms(input_text):\n",
    "    transformed_input = transform_text(input_text)\n",
    "    vectorizedd = tfidf.transform([transformed_input])\n",
    "    result = model.predict(vectorizedd)[0]\n",
    "    return \"Spam\" if result == 1 else \"Genuine\"\n",
    "\n",
    "iface = gr.Interface(\n",
    "    fn=predict_sms,\n",
    "    inputs=gr.Textbox(label=\"Enter the SMS\", placeholder=\"Type your SMS here...\"),\n",
    "    outputs=gr.Label(label=\"Result\"),\n",
    "    live=True\n",
    ")\n",
    "\n",
    "\n",
    "iface.launch(share=True)   \n"
   ]
  },
  {
   "cell_type": "code",
   "execution_count": null,
   "id": "bda533fc-9811-47d6-beff-f8e30c38d3bc",
   "metadata": {},
   "outputs": [],
   "source": []
  }
 ],
 "metadata": {
  "kernelspec": {
   "display_name": "spamsmsdetection",
   "language": "python",
   "name": "spamsmsdetection"
  },
  "language_info": {
   "codemirror_mode": {
    "name": "ipython",
    "version": 3
   },
   "file_extension": ".py",
   "mimetype": "text/x-python",
   "name": "python",
   "nbconvert_exporter": "python",
   "pygments_lexer": "ipython3",
   "version": "3.11.4"
  }
 },
 "nbformat": 4,
 "nbformat_minor": 5
}
